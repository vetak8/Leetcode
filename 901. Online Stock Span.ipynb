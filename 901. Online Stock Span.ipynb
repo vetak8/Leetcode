{
 "cells": [
  {
   "cell_type": "code",
   "execution_count": 36,
   "id": "cee5ac15",
   "metadata": {},
   "outputs": [],
   "source": [
    "class StockSpanner:\n",
    "\n",
    "    def __init__(self):\n",
    "        self.stack = [] # pair: (price, span)\n",
    "\n",
    "    def next(self, price: int) -> int:        \n",
    "        span = 1\n",
    "        while self.stack and self.stack[-1][0] <= price:\n",
    "            span += self.stack[-1][1]\n",
    "            self.stack.pop()\n",
    "        self.stack.append((price, span))\n",
    "        print(self.stack)\n",
    "        return span\n",
    "        \n"
   ]
  },
  {
   "cell_type": "code",
   "execution_count": 37,
   "id": "cc822366",
   "metadata": {},
   "outputs": [],
   "source": [
    "obj = StockSpanner()"
   ]
  },
  {
   "cell_type": "code",
   "execution_count": 38,
   "id": "bbe3d632",
   "metadata": {},
   "outputs": [
    {
     "name": "stdout",
     "output_type": "stream",
     "text": [
      "[(100, 1)]\n",
      "[(100, 1), (80, 1)]\n",
      "[(100, 1), (80, 1), (60, 1)]\n",
      "[(100, 1), (80, 1), (70, 2)]\n",
      "[(100, 1), (80, 1), (70, 2), (60, 1)]\n",
      "[(100, 1), (80, 1), (75, 4)]\n",
      "[(100, 1), (85, 6)]\n"
     ]
    },
    {
     "data": {
      "text/plain": [
       "[(100, 1), (85, 6)]"
      ]
     },
     "execution_count": 38,
     "metadata": {},
     "output_type": "execute_result"
    }
   ],
   "source": [
    "p_1 = obj.next(100)\n",
    "p_2 = obj.next(80)\n",
    "p_3 = obj.next(60)\n",
    "p_4 = obj.next(70)\n",
    "p_5 = obj.next(60)\n",
    "p_6 = obj.next(75)\n",
    "p_7 = obj.next(85)\n",
    "obj.stack"
   ]
  },
  {
   "cell_type": "code",
   "execution_count": null,
   "id": "2249b9f4",
   "metadata": {},
   "outputs": [],
   "source": [
    "[100,80,60,70,60,75,85]\n",
    "[1,1,1,2,1,4,6]"
   ]
  },
  {
   "cell_type": "code",
   "execution_count": null,
   "id": "79b6461d",
   "metadata": {},
   "outputs": [],
   "source": []
  }
 ],
 "metadata": {
  "kernelspec": {
   "display_name": "Python 3",
   "language": "python",
   "name": "python3"
  },
  "language_info": {
   "codemirror_mode": {
    "name": "ipython",
    "version": 3
   },
   "file_extension": ".py",
   "mimetype": "text/x-python",
   "name": "python",
   "nbconvert_exporter": "python",
   "pygments_lexer": "ipython3",
   "version": "3.8.8"
  }
 },
 "nbformat": 4,
 "nbformat_minor": 5
}
