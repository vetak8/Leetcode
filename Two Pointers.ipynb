{
 "cells": [
  {
   "cell_type": "markdown",
   "id": "5f26ae96",
   "metadata": {},
   "source": [
    "# 82. Remove Duplicates from Sorted List II"
   ]
  },
  {
   "cell_type": "markdown",
   "id": "6072930b",
   "metadata": {},
   "source": [
    "Учитывая заголовок отсортированного связанного списка, удалите все узлы с повторяющимися номерами, \n",
    "\n",
    "оставив только разные номера из исходного списка.\n",
    "\n",
    "Возвращает также отсортированный связанный список.\""
   ]
  },
  {
   "cell_type": "code",
   "execution_count": null,
   "id": "d7cef9f4",
   "metadata": {},
   "outputs": [],
   "source": [
    "# Definition for singly-linked list.\n",
    "# class ListNode:\n",
    "#     def __init__(self, val=0, next=None):\n",
    "#         self.val = val\n",
    "#         self.next = next\n",
    "\n",
    "\n",
    "class Solution:\n",
    "    def deleteDuplicates(self, head):\n",
    "        # Крайний случай: пустой список\n",
    "        if not head:\n",
    "            return head\n",
    "        \n",
    "        # Создаем фиктивный узел\n",
    "        dummy = Listnode(-1, head)\n",
    "        prev, curr = dummy, head\n",
    "        \n",
    "        while curr:\n",
    "            # Пропускаем дубликаты\n",
    "            while curr.next and curr.val == curr.next.val:\n",
    "                curr = curr.next\n",
    "            # Если prev.next является curr, это значит, что дубликаты не найдены\n",
    "            if prev.next == curr:\n",
    "                prev = curr\n",
    "            # В противном случае, имеются дубликаты, которые надо пропустить\n",
    "            else:\n",
    "                prev.next = curr.next\n",
    "            curr = curr.next\n",
    "        return dummy.next\n",
    "        "
   ]
  },
  {
   "cell_type": "markdown",
   "id": "2c56a726",
   "metadata": {},
   "source": [
    "# 15. 3Sum"
   ]
  },
  {
   "cell_type": "markdown",
   "id": "9cb2963b",
   "metadata": {},
   "source": [
    "Для массива целых чисел nums вернуть все триплеты [nums[i], nums[j], nums[k]] такие, что i != j, i != k и j != k,\n",
    "\n",
    "и nums[i] + числа [j] + числа [k] == 0.\n",
    "\n",
    "Обратите внимание, что в наборе решений не должно быть повторяющихся триплетов."
   ]
  },
  {
   "cell_type": "code",
   "execution_count": 5,
   "id": "bde647b1",
   "metadata": {},
   "outputs": [],
   "source": [
    "def threeSum(nums):\n",
    "    nums.sort()\n",
    "    res = []\n",
    "    \n",
    "    for i, a in enumerate(nums):\n",
    "        if i > 0 and a == nums[i-1]:\n",
    "            continue\n",
    "        \n",
    "        l, r = i + 1, len(nums) - 1\n",
    "        while l < r:\n",
    "            total = a + nums[l] + nums[r]\n",
    "            if total < 0:\n",
    "                l += 1\n",
    "            elif total > 0:\n",
    "                r -= 1\n",
    "            else:\n",
    "                res.append([a, nums[l], nums[r]])\n",
    "                l += 1\n",
    "                while l < r and nums[l] == nums[l-1]:\n",
    "                    l += 1\n",
    "    return res\n"
   ]
  },
  {
   "cell_type": "code",
   "execution_count": 6,
   "id": "8b375ca2",
   "metadata": {},
   "outputs": [
    {
     "data": {
      "text/plain": [
       "[[-4, -1, 5], [-4, 1, 3], [-1, -1, 2]]"
      ]
     },
     "execution_count": 6,
     "metadata": {},
     "output_type": "execute_result"
    }
   ],
   "source": [
    "threeSum([-1, -1, -4, 1, 2, 5, 3, 6, 7])"
   ]
  },
  {
   "cell_type": "markdown",
   "id": "8e51c3fa",
   "metadata": {},
   "source": [
    "# 844. Backspace String Compare"
   ]
  },
  {
   "cell_type": "markdown",
   "id": "aaf94d69",
   "metadata": {},
   "source": [
    "Имея две строки s и t, верните true, если они равны при вводе обеих строк в пустые текстовые редакторы. \n",
    "\n",
    "'#' означает символ возврата.\n",
    "\n",
    "Обратите внимание, что после удаления пустого текста текст останется пустым."
   ]
  },
  {
   "cell_type": "code",
   "execution_count": 34,
   "id": "e0b12fc8",
   "metadata": {},
   "outputs": [],
   "source": [
    "def backspaceCompare(s: str, t: str) -> bool:\n",
    "    return preparation(s) == preparation(t)\n",
    "    \n",
    "def preparation(s):\n",
    "    res = ''\n",
    "    for i in s:\n",
    "        if i != '#':\n",
    "            res += i\n",
    "        else:\n",
    "            res = res[:-1]\n",
    "    return res\n",
    "            "
   ]
  },
  {
   "cell_type": "code",
   "execution_count": 37,
   "id": "8315382f",
   "metadata": {},
   "outputs": [
    {
     "data": {
      "text/plain": [
       "False"
      ]
     },
     "execution_count": 37,
     "metadata": {},
     "output_type": "execute_result"
    }
   ],
   "source": [
    "backspaceCompare(\"a#aab\", \"a#ab\")"
   ]
  },
  {
   "cell_type": "markdown",
   "id": "db5d11cf",
   "metadata": {},
   "source": [
    "# 986. Interval List Intersections"
   ]
  },
  {
   "cell_type": "code",
   "execution_count": 1,
   "id": "acaaa396",
   "metadata": {},
   "outputs": [],
   "source": [
    "from typing import List"
   ]
  },
  {
   "cell_type": "code",
   "execution_count": 5,
   "id": "07979843",
   "metadata": {},
   "outputs": [],
   "source": [
    "def intervalIntersection(A: List[List[int]], B: List[List[int]]) -> List[List[int]]:\n",
    "    i = j = 0\n",
    "    res = []\n",
    "    \n",
    "    while i < len(A) and j < len(B):\n",
    "        \n",
    "        if A[i][1] >= B[j][0] and B[j][1] >= A[i][0]:\n",
    "            res.append([max(A[i][0], B[j][0]), min(A[i][1], B[j][1])])\n",
    "            \n",
    "        if A[i][1] < B[j][1]:\n",
    "            i += 1\n",
    "        else:\n",
    "            j += 1\n",
    "    return res"
   ]
  },
  {
   "cell_type": "code",
   "execution_count": 6,
   "id": "fd5612b9",
   "metadata": {},
   "outputs": [
    {
     "data": {
      "text/plain": [
       "[[1, 2], [5, 5], [8, 10], [15, 23], [24, 24], [25, 25]]"
      ]
     },
     "execution_count": 6,
     "metadata": {},
     "output_type": "execute_result"
    }
   ],
   "source": [
    "firstList = [[0,2],[5,10],[13,23],[24,25]]\n",
    "secondList = [[1,5],[8,12],[15,24],[25,26]]\n",
    "intervalIntersection(firstList, secondList)"
   ]
  },
  {
   "cell_type": "code",
   "execution_count": 9,
   "id": "f00be702",
   "metadata": {},
   "outputs": [
    {
     "data": {
      "text/plain": [
       "[[1, 2], [5, 10], [13, 20]]"
      ]
     },
     "execution_count": 9,
     "metadata": {},
     "output_type": "execute_result"
    }
   ],
   "source": [
    "firstList = [[0,2],[5,10],[13,23],[24,25]]\n",
    "secondList = [[1, 20]]\n",
    "intervalIntersection(firstList, secondList)"
   ]
  },
  {
   "cell_type": "markdown",
   "id": "ac92e980",
   "metadata": {},
   "source": [
    "# 11. Container With Most Water"
   ]
  },
  {
   "cell_type": "markdown",
   "id": "402a5db3",
   "metadata": {},
   "source": [
    "Вам дан целочисленный массив высоты длины n. \n",
    "\n",
    "Нарисовано n вертикальных линий, две конечные точки i-й линии равны (i, 0) и (i, height[i]).\n",
    "\n",
    "\n",
    "Найдите две линии, которые вместе с осью абсцисс образуют контейнер, содержащий наибольшее количество воды.\n",
    "\n",
    "\n",
    "Возвращает максимальное количество воды, которое может храниться в контейнере.\n",
    "\n",
    "Обратите внимание, что вы не можете наклонять контейнер."
   ]
  },
  {
   "cell_type": "markdown",
   "id": "f1c152a6",
   "metadata": {},
   "source": [
    "![aa](https://s3-lc-upload.s3.amazonaws.com/uploads/2018/07/17/question_11.jpg)"
   ]
  },
  {
   "cell_type": "code",
   "execution_count": 10,
   "id": "62f8fb1e",
   "metadata": {},
   "outputs": [],
   "source": [
    "from typing import List"
   ]
  },
  {
   "cell_type": "code",
   "execution_count": 26,
   "id": "336c115e",
   "metadata": {},
   "outputs": [],
   "source": [
    "def maxArea(height: List[int]) -> int:\n",
    "    l, r = 0, len(height) - 1\n",
    "    max_area = 0\n",
    "    while l < r:\n",
    "        area = (r - l) * min(height[l], height[r])\n",
    "        max_area = max(area, max_area)\n",
    "        \n",
    "        if height[l] < height[r]:\n",
    "            l += 1\n",
    "        else:\n",
    "            r -= 1\n",
    "    return max_area\n"
   ]
  },
  {
   "cell_type": "code",
   "execution_count": 27,
   "id": "3af2a9ce",
   "metadata": {},
   "outputs": [
    {
     "data": {
      "text/plain": [
       "49"
      ]
     },
     "execution_count": 27,
     "metadata": {},
     "output_type": "execute_result"
    }
   ],
   "source": [
    "height = [1,8,6,2,5,4,8,3,7]\n",
    "maxArea(height)"
   ]
  },
  {
   "cell_type": "code",
   "execution_count": 28,
   "id": "7509586a",
   "metadata": {},
   "outputs": [
    {
     "data": {
      "text/plain": [
       "1"
      ]
     },
     "execution_count": 28,
     "metadata": {},
     "output_type": "execute_result"
    }
   ],
   "source": [
    "height = [1, 1]\n",
    "maxArea(height)"
   ]
  },
  {
   "cell_type": "code",
   "execution_count": null,
   "id": "719199d3",
   "metadata": {},
   "outputs": [],
   "source": []
  }
 ],
 "metadata": {
  "kernelspec": {
   "display_name": "Python 3 (ipykernel)",
   "language": "python",
   "name": "python3"
  },
  "language_info": {
   "codemirror_mode": {
    "name": "ipython",
    "version": 3
   },
   "file_extension": ".py",
   "mimetype": "text/x-python",
   "name": "python",
   "nbconvert_exporter": "python",
   "pygments_lexer": "ipython3",
   "version": "3.9.7"
  }
 },
 "nbformat": 4,
 "nbformat_minor": 5
}
