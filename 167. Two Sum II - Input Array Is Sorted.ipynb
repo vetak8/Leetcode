{
 "cells": [
  {
   "cell_type": "markdown",
   "id": "0f230135",
   "metadata": {},
   "source": [
    "Дан массив целых чисел с индексом 1, который уже отсортирован в порядке неубывания, найдите два числа, которые в сумме дают определенное целевое число. \n",
    "\n",
    "Пусть эти два числа будут числами [индекс1] и числами [индекс2], где 1 <= индекс1 < индекс2 <= числа.длина.\n",
    "\n",
    "Возвращает индексы двух чисел, index1 и index2, сложенные на единицу, в виде целочисленного массива [index1, index2] длины 2.\n",
    "\n",
    "\n",
    "Тесты генерируются таким образом, что существует ровно одно решение. Вы не можете использовать один и тот же элемент дважды.\n",
    "\n",
    "Ваше решение должно использовать только постоянное дополнительное пространство."
   ]
  },
  {
   "cell_type": "code",
   "execution_count": 2,
   "id": "dce34fb1",
   "metadata": {},
   "outputs": [],
   "source": [
    "from typing import List\n",
    "def twoSum(numbers: List[int], target: int) -> List[int]:\n",
    "        left, right = 0, len(numbers) - 1 \n",
    "        \n",
    "        while left <= right:\n",
    "            s = numbers[left] + numbers[right]\n",
    "            if s == target:\n",
    "                return [left+1, right+1]\n",
    "            elif s < target:\n",
    "                left += 1\n",
    "            else:\n",
    "                right -= 1\n",
    "        return []"
   ]
  },
  {
   "cell_type": "code",
   "execution_count": 4,
   "id": "581373bc",
   "metadata": {},
   "outputs": [
    {
     "data": {
      "text/plain": [
       "[3, 4]"
      ]
     },
     "execution_count": 4,
     "metadata": {},
     "output_type": "execute_result"
    }
   ],
   "source": [
    "twoSum([1,2,4,5,9], 9)"
   ]
  },
  {
   "cell_type": "markdown",
   "id": "0fdc5dc8",
   "metadata": {},
   "source": [
    "Так как наш массив отсортирован, можем проходиться по нему двумя указателями с разных сторон, на каждой итерации сравнивая сумму элементов с таргетом.\n",
    "если сумма меньше таргета, левый указатель увеличиваем на 1\n",
    "если сумма больше таргета, правый уменьшаем на 1"
   ]
  }
 ],
 "metadata": {
  "kernelspec": {
   "display_name": "Python 3 (ipykernel)",
   "language": "python",
   "name": "python3"
  },
  "language_info": {
   "codemirror_mode": {
    "name": "ipython",
    "version": 3
   },
   "file_extension": ".py",
   "mimetype": "text/x-python",
   "name": "python",
   "nbconvert_exporter": "python",
   "pygments_lexer": "ipython3",
   "version": "3.9.7"
  }
 },
 "nbformat": 4,
 "nbformat_minor": 5
}
