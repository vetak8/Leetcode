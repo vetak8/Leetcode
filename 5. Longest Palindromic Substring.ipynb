{
 "cells": [
  {
   "cell_type": "markdown",
   "id": "a134de9f",
   "metadata": {},
   "source": [
    "\n",
    "Для данной строки s вернуть самую длинную палиндромную подстроку в s."
   ]
  },
  {
   "cell_type": "code",
   "execution_count": 1,
   "id": "70ca0150",
   "metadata": {},
   "outputs": [],
   "source": [
    "# class Solution:\n",
    "#     def longestPalindrome(self, s: str) -> str:\n",
    "#         if (s == '') or (len(s) < 1):\n",
    "#             return ''\n",
    "#         start = 0\n",
    "#         end = 0\n",
    "#         for i in range(len(s)):\n",
    "#             len1 = self.middle_expend(self,s, i, i)\n",
    "#             len2 = self.middle_expend(self,s, i+1, i+1)\n",
    "#             len_ = max(len1, len2)\n",
    "#             if len_ > end - start:\n",
    "#                 start = i - ((len_ - 1)//2)\n",
    "#                 end = i + (len_ // 2)\n",
    "                \n",
    "\n",
    "                \n",
    "#         return s[start:end+1]\n",
    "            \n",
    "        \n",
    "        \n",
    "        \n",
    "#     def middle_expend(self, s, left, right):\n",
    "#         n = len(s)\n",
    "#         if s == '' or left > right:\n",
    "#             return ''\n",
    "#         while (left >= 0) & (right < n) & left == right:\n",
    "#             left -= 1\n",
    "#             right += 1\n",
    "#         return right - left + 1\n",
    "            "
   ]
  },
  {
   "cell_type": "code",
   "execution_count": 2,
   "id": "6d8a2946",
   "metadata": {},
   "outputs": [],
   "source": [
    "# def longestPalindrome(s: str) -> str:\n",
    "#     n = len(s)\n",
    "#     j = 0\n",
    "#     for i in reversed(range(n)):\n",
    "#         if s[i] == s[j]:\n",
    "#             j += 1\n",
    "#     return s[j:][::-1] + longestPalindrome(s[:j-n]) + s[j-n:]"
   ]
  },
  {
   "cell_type": "code",
   "execution_count": 3,
   "id": "d2c9ac69",
   "metadata": {},
   "outputs": [],
   "source": [
    "# longestPalindrome('acaa')"
   ]
  },
  {
   "cell_type": "code",
   "execution_count": 1,
   "id": "04065463",
   "metadata": {},
   "outputs": [],
   "source": [
    "class Solution:\n",
    "    def longestPalindrome(self, s):\n",
    "        if len(s) == 1: return s\n",
    "        if s == s[::-1]: return s\n",
    "        \n",
    "        count = 0\n",
    "        \n",
    "        for i in range(len(s)):\n",
    "            for j in range(i,len(s) +1):\n",
    "                print(i,j)\n",
    "                pal = s[i:j]\n",
    "                print(pal)\n",
    "                if pal == pal[::-1] and len(pal) > count:\n",
    "                    result = pal\n",
    "                    count = len(pal)\n",
    "        return result"
   ]
  },
  {
   "cell_type": "code",
   "execution_count": 2,
   "id": "abba7782",
   "metadata": {},
   "outputs": [],
   "source": [
    "a = Solution"
   ]
  },
  {
   "cell_type": "code",
   "execution_count": 3,
   "id": "3a257912",
   "metadata": {},
   "outputs": [
    {
     "data": {
      "text/plain": [
       "'racecar'"
      ]
     },
     "execution_count": 3,
     "metadata": {},
     "output_type": "execute_result"
    }
   ],
   "source": [
    "a.longestPalindrome(a,'racecar')"
   ]
  },
  {
   "cell_type": "code",
   "execution_count": 7,
   "id": "573e5476",
   "metadata": {},
   "outputs": [],
   "source": [
    "# class Solution:\n",
    "#     def longestPalindrome(self, s):\n",
    "#         if len(s) == 1: return s\n",
    "#         if s == s[::-1]: return s\n",
    "        \n",
    "#         count = 0\n",
    "#         j = 2\n",
    "#         for i in range(len(s)+1):\n",
    "#             pal = s[i:j]\n",
    "#             print(pal)\n",
    "#             if pal == pal[::-1] and len(pal) > count:\n",
    "#                 result = pal\n",
    "                \n",
    "#                 count = len(pal)\n",
    "#                 print(count)\n",
    "#                 j += 1\n",
    "#         return result"
   ]
  },
  {
   "cell_type": "code",
   "execution_count": null,
   "id": "3cd2a63f",
   "metadata": {},
   "outputs": [],
   "source": []
  },
  {
   "cell_type": "code",
   "execution_count": null,
   "id": "bc61498a",
   "metadata": {},
   "outputs": [],
   "source": []
  }
 ],
 "metadata": {
  "kernelspec": {
   "display_name": "Python 3",
   "language": "python",
   "name": "python3"
  },
  "language_info": {
   "codemirror_mode": {
    "name": "ipython",
    "version": 3
   },
   "file_extension": ".py",
   "mimetype": "text/x-python",
   "name": "python",
   "nbconvert_exporter": "python",
   "pygments_lexer": "ipython3",
   "version": "3.8.8"
  }
 },
 "nbformat": 4,
 "nbformat_minor": 5
}
