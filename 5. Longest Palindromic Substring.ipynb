{
 "cells": [
  {
   "cell_type": "markdown",
   "id": "a134de9f",
   "metadata": {},
   "source": [
    "\n",
    "Для данной строки s вернуть самую длинную палиндромную подстроку в s."
   ]
  },
  {
   "cell_type": "code",
   "execution_count": 46,
   "id": "84a1241b",
   "metadata": {},
   "outputs": [],
   "source": [
    "class Solution:\n",
    "    def longestPalindrome(self, s: str) -> str:\n",
    "        res = ''\n",
    "        resLen = 0\n",
    "        for i in range(len(s)):\n",
    "            # odd lenght\n",
    "            l, r = i, i \n",
    "            while l >= 0 and r < len(s) and s[l] == s[r]:\n",
    "                if (r - l + 1) > resLen:\n",
    "                    res = s[l:r+1]\n",
    "                    resLen = r - l + 1\n",
    "                l -= 1\n",
    "                r += 1\n",
    "            \n",
    "            # even lenght\n",
    "            l, r = i, i + 1\n",
    "            while l >= 0 and r < len(s) and s[l] == s[r]:\n",
    "                if (r - l + 1) > resLen:\n",
    "                    res = s[l:r+1]\n",
    "                    resLen = r - l + 1\n",
    "                l -= 1\n",
    "                r +=1\n",
    "        return res"
   ]
  },
  {
   "cell_type": "code",
   "execution_count": 47,
   "id": "07851bf6",
   "metadata": {},
   "outputs": [],
   "source": [
    "obj = Solution()"
   ]
  },
  {
   "cell_type": "code",
   "execution_count": 48,
   "id": "abacd930",
   "metadata": {
    "scrolled": true
   },
   "outputs": [
    {
     "data": {
      "text/plain": [
       "'мамам'"
      ]
     },
     "execution_count": 48,
     "metadata": {},
     "output_type": "execute_result"
    }
   ],
   "source": [
    "obj.longestPalindrome('мамам')"
   ]
  },
  {
   "cell_type": "code",
   "execution_count": null,
   "id": "88c5889a",
   "metadata": {},
   "outputs": [],
   "source": []
  }
 ],
 "metadata": {
  "kernelspec": {
   "display_name": "Python 3",
   "language": "python",
   "name": "python3"
  },
  "language_info": {
   "codemirror_mode": {
    "name": "ipython",
    "version": 3
   },
   "file_extension": ".py",
   "mimetype": "text/x-python",
   "name": "python",
   "nbconvert_exporter": "python",
   "pygments_lexer": "ipython3",
   "version": "3.8.8"
  }
 },
 "nbformat": 4,
 "nbformat_minor": 5
}
