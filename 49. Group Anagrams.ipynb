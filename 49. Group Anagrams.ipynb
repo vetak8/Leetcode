{
 "cells": [
  {
   "cell_type": "code",
   "execution_count": 17,
   "id": "51474157",
   "metadata": {},
   "outputs": [],
   "source": [
    "from typing import List\n",
    "import collections"
   ]
  },
  {
   "cell_type": "code",
   "execution_count": 4,
   "id": "1138e679",
   "metadata": {},
   "outputs": [],
   "source": [
    "class Solution:\n",
    "    def groupAnagrams(self, strs: List[str]) -> List[List[str]]:\n",
    "        d = dict.fromkeys([''.join(sorted(i)) for i in strs], '')\n",
    "        for i, n in enumerate(strs):\n",
    "            temp = d[''.join(sorted(n))]\n",
    "            d[''.join(sorted(n))] = temp + str(i) \n",
    "        return [[strs[int(j)] for j in d[i]] for i in d]"
   ]
  },
  {
   "cell_type": "markdown",
   "id": "29a7b55a",
   "metadata": {},
   "source": [
    "Input: strs = [\"eat\",\"tea\",\"tan\",\"ate\",\"nat\",\"bat\"]\n",
    "\n",
    "Output: [[\"bat\"],[\"nat\",\"tan\"],[\"ate\",\"eat\",\"tea\"]]"
   ]
  },
  {
   "cell_type": "code",
   "execution_count": 5,
   "id": "97f76e33",
   "metadata": {},
   "outputs": [],
   "source": [
    "from typing import List\n",
    "def groupAnagrams(strs: List[str]) -> List[List[str]]:\n",
    "    d = dict.fromkeys([''.join(sorted(i)) for i in strs], '')\n",
    "    for i, n in enumerate(strs):\n",
    "        temp = d[''.join(sorted(n))]\n",
    "        d[''.join(sorted(n))] = temp + str(i) \n",
    "    print(d.values())\n",
    "    return [[strs[int(j)] for j in d[i]] for i in d]\n",
    "        "
   ]
  },
  {
   "cell_type": "code",
   "execution_count": 6,
   "id": "05c9e1d4",
   "metadata": {
    "scrolled": true
   },
   "outputs": [
    {
     "name": "stdout",
     "output_type": "stream",
     "text": [
      "dict_values(['013', '24', '5', '6', '7', '8', '9', '10', '11', '12', '13'])\n"
     ]
    },
    {
     "data": {
      "text/plain": [
       "[['eat', 'tea', 'ate'],\n",
       " ['tan', 'nat'],\n",
       " ['bat'],\n",
       " ['ac'],\n",
       " ['bd'],\n",
       " ['aac'],\n",
       " ['bbd'],\n",
       " ['tea', 'eat'],\n",
       " ['tea', 'tea'],\n",
       " ['tea', 'tan'],\n",
       " ['tea', 'ate']]"
      ]
     },
     "execution_count": 6,
     "metadata": {},
     "output_type": "execute_result"
    }
   ],
   "source": [
    "c = [\"eat\",\"tea\",\"tan\",\"ate\",\"nat\",\"bat\",\"ac\",\"bd\",\"aac\",\"bbd\",\"aacc\",\"bbdd\",\"acc\",\"bdd\"]\n",
    "# [[\"bdd\"],[\"bat\"],[\"nat\",\"tan\"],[\"ac\"],[\"ate\",\"eat\",\"tea\"],[\"bd\"],[\"aac\"],[\"bbd\"],[\"aacc\"],[\"bbdd\"],[\"acc\"]]\n",
    "groupAnagrams(c)"
   ]
  },
  {
   "cell_type": "code",
   "execution_count": 7,
   "id": "c6b6ec2b",
   "metadata": {},
   "outputs": [],
   "source": [
    "strs = [\"eat\",\"tea\",\"tan\",\"ate\",\"nat\",\"bat\"]"
   ]
  },
  {
   "cell_type": "code",
   "execution_count": 8,
   "id": "80e4cefd",
   "metadata": {},
   "outputs": [
    {
     "name": "stdout",
     "output_type": "stream",
     "text": [
      "dict_values(['013', '24', '5'])\n"
     ]
    },
    {
     "data": {
      "text/plain": [
       "[['eat', 'tea', 'ate'], ['tan', 'nat'], ['bat']]"
      ]
     },
     "execution_count": 8,
     "metadata": {},
     "output_type": "execute_result"
    }
   ],
   "source": [
    "groupAnagrams(strs)"
   ]
  },
  {
   "cell_type": "code",
   "execution_count": 45,
   "id": "644ec883",
   "metadata": {},
   "outputs": [],
   "source": [
    "z = [0] * 26"
   ]
  },
  {
   "cell_type": "code",
   "execution_count": 47,
   "id": "c6249b73",
   "metadata": {},
   "outputs": [
    {
     "data": {
      "text/plain": [
       "0"
      ]
     },
     "execution_count": 47,
     "metadata": {},
     "output_type": "execute_result"
    }
   ],
   "source": [
    "z[3]"
   ]
  },
  {
   "cell_type": "code",
   "execution_count": 48,
   "id": "f2c885ea",
   "metadata": {},
   "outputs": [
    {
     "data": {
      "text/plain": [
       "'\\x06'"
      ]
     },
     "execution_count": 48,
     "metadata": {},
     "output_type": "execute_result"
    }
   ],
   "source": [
    "chr(103 - 97)"
   ]
  },
  {
   "cell_type": "code",
   "execution_count": 18,
   "id": "572dc09f",
   "metadata": {},
   "outputs": [],
   "source": [
    "class Solution:\n",
    "    def groupAnagrams(self, strs: List[str]) -> List[List[str]]:\n",
    "        ans = collections.defaultdict(list)\n",
    "        \n",
    "        for s in strs:\n",
    "            count = [0] * 26\n",
    "            for c in s:\n",
    "                count[ord(c) - ord('a')] += 1\n",
    "            ans[tuple(count)].append(s)\n",
    "        return ans.values()"
   ]
  }
 ],
 "metadata": {
  "kernelspec": {
   "display_name": "Python 3",
   "language": "python",
   "name": "python3"
  },
  "language_info": {
   "codemirror_mode": {
    "name": "ipython",
    "version": 3
   },
   "file_extension": ".py",
   "mimetype": "text/x-python",
   "name": "python",
   "nbconvert_exporter": "python",
   "pygments_lexer": "ipython3",
   "version": "3.8.8"
  }
 },
 "nbformat": 4,
 "nbformat_minor": 5
}
