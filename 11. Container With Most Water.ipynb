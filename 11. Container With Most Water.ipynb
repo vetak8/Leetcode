{
 "cells": [
  {
   "cell_type": "code",
   "execution_count": 22,
   "id": "500a4e88",
   "metadata": {},
   "outputs": [],
   "source": [
    "from typing import List\n",
    "class Solution:\n",
    "    def maxArea(self, height: List[int]) -> int:\n",
    "        res = 0 \n",
    "        l = len(height) - 1\n",
    "        i = 0\n",
    "        while i < l:\n",
    "            res = max(res, (l - i) * min(height[i], height[l]))\n",
    "            if height[i] < height[l]:\n",
    "                i += 1\n",
    "            else:\n",
    "                l -= 1\n",
    "        return res"
   ]
  },
  {
   "cell_type": "code",
   "execution_count": 23,
   "id": "4c1fd3f0",
   "metadata": {},
   "outputs": [],
   "source": [
    "obj = Solution()"
   ]
  },
  {
   "cell_type": "code",
   "execution_count": 24,
   "id": "7cca60ab",
   "metadata": {},
   "outputs": [],
   "source": [
    "height = [1,8,6,2,5,4,8,3,7]"
   ]
  },
  {
   "cell_type": "code",
   "execution_count": 25,
   "id": "1875a1d7",
   "metadata": {},
   "outputs": [
    {
     "name": "stdout",
     "output_type": "stream",
     "text": [
      "8\n",
      "49\n",
      "49\n",
      "49\n",
      "49\n",
      "49\n",
      "49\n",
      "49\n"
     ]
    }
   ],
   "source": [
    "obj.maxArea(height)"
   ]
  },
  {
   "cell_type": "code",
   "execution_count": 37,
   "id": "207c6056",
   "metadata": {},
   "outputs": [],
   "source": [
    "import string"
   ]
  },
  {
   "cell_type": "code",
   "execution_count": 44,
   "id": "39eee103",
   "metadata": {},
   "outputs": [],
   "source": [
    "c = set(string.ascii_letters.lower())"
   ]
  },
  {
   "cell_type": "code",
   "execution_count": 50,
   "id": "af4452fe",
   "metadata": {},
   "outputs": [
    {
     "data": {
      "text/plain": [
       "'the quick brown fox jumps over the lazy dog'"
      ]
     },
     "execution_count": 50,
     "metadata": {},
     "output_type": "execute_result"
    }
   ],
   "source": [
    "\"The quick brown fox jumps over the lazy dog\".lower()"
   ]
  },
  {
   "cell_type": "code",
   "execution_count": 49,
   "id": "ad113806",
   "metadata": {},
   "outputs": [
    {
     "data": {
      "text/plain": [
       "False"
      ]
     },
     "execution_count": 49,
     "metadata": {},
     "output_type": "execute_result"
    }
   ],
   "source": [
    "all(dict.fromkeys(c).values())==True"
   ]
  },
  {
   "cell_type": "code",
   "execution_count": 72,
   "id": "095e8979",
   "metadata": {},
   "outputs": [],
   "source": [
    "d = dict.fromkeys(set(string.ascii_letters.lower()))\n",
    "s = \"The quick brown fox jumps over the lazy dog\".lower()\n",
    "for x in s:\n",
    "    d[x] = True"
   ]
  },
  {
   "cell_type": "code",
   "execution_count": 73,
   "id": "b4deabfa",
   "metadata": {},
   "outputs": [
    {
     "data": {
      "text/plain": [
       "{'g': True,\n",
       " 'h': True,\n",
       " 'p': True,\n",
       " 'v': True,\n",
       " 'j': True,\n",
       " 'i': True,\n",
       " 'd': True,\n",
       " 'f': True,\n",
       " 'm': True,\n",
       " 'a': True,\n",
       " 's': True,\n",
       " 'u': True,\n",
       " 'l': True,\n",
       " 'y': True,\n",
       " 'w': True,\n",
       " 'c': True,\n",
       " 'e': True,\n",
       " 'q': True,\n",
       " 'k': True,\n",
       " 'o': True,\n",
       " 'r': True,\n",
       " 't': True,\n",
       " 'b': True,\n",
       " 'x': True,\n",
       " 'z': True,\n",
       " 'n': True,\n",
       " ' ': True}"
      ]
     },
     "execution_count": 73,
     "metadata": {},
     "output_type": "execute_result"
    }
   ],
   "source": [
    "d"
   ]
  },
  {
   "cell_type": "code",
   "execution_count": 74,
   "id": "be29185c",
   "metadata": {},
   "outputs": [
    {
     "data": {
      "text/plain": [
       "True"
      ]
     },
     "execution_count": 74,
     "metadata": {},
     "output_type": "execute_result"
    }
   ],
   "source": [
    "all(d.values())"
   ]
  },
  {
   "cell_type": "code",
   "execution_count": 78,
   "id": "c39b3517",
   "metadata": {},
   "outputs": [],
   "source": [
    "def is_pangram(s):\n",
    "    d = dict.fromkeys(set(string.ascii_letters.lower()))\n",
    "    for x in s:\n",
    "        if x not in string.punctuation:\n",
    "            \n",
    "            d[x] = True\n",
    "    \n",
    "    if all(d.values())==True:\n",
    "        return True\n",
    "    return False"
   ]
  },
  {
   "cell_type": "code",
   "execution_count": 79,
   "id": "b5bef770",
   "metadata": {},
   "outputs": [
    {
     "data": {
      "text/plain": [
       "True"
      ]
     },
     "execution_count": 79,
     "metadata": {},
     "output_type": "execute_result"
    }
   ],
   "source": [
    "is_pangram(s)"
   ]
  },
  {
   "cell_type": "code",
   "execution_count": 77,
   "id": "12077666",
   "metadata": {},
   "outputs": [
    {
     "data": {
      "text/plain": [
       "'!\"#$%&\\'()*+,-./:;<=>?@[\\\\]^_`{|}~'"
      ]
     },
     "execution_count": 77,
     "metadata": {},
     "output_type": "execute_result"
    }
   ],
   "source": [
    "string.punctuation"
   ]
  },
  {
   "cell_type": "code",
   "execution_count": null,
   "id": "720f2d39",
   "metadata": {},
   "outputs": [],
   "source": []
  }
 ],
 "metadata": {
  "kernelspec": {
   "display_name": "Python 3",
   "language": "python",
   "name": "python3"
  },
  "language_info": {
   "codemirror_mode": {
    "name": "ipython",
    "version": 3
   },
   "file_extension": ".py",
   "mimetype": "text/x-python",
   "name": "python",
   "nbconvert_exporter": "python",
   "pygments_lexer": "ipython3",
   "version": "3.8.8"
  }
 },
 "nbformat": 4,
 "nbformat_minor": 5
}
