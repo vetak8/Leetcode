{
 "cells": [
  {
   "cell_type": "code",
   "execution_count": 1,
   "id": "0e724139",
   "metadata": {},
   "outputs": [],
   "source": [
    "class Solution:\n",
    "    def convert(self, s: str, numRows: int) -> str:\n",
    "        if numRows == 1 or numRows == len(s):\n",
    "            return s\n",
    "        res = ''\n",
    "        for r in range(numRows):\n",
    "            increment = 2 * (numRows - 1)\n",
    "            for i in range(r, len(s), increment):\n",
    "                res += s[i]\n",
    "                if (r > 0 and r < numRows - 1 \n",
    "                    and i + increment - 2 * r < len(s)):\n",
    "                    res += s[i + increment - 2 * r]\n",
    "        return res"
   ]
  },
  {
   "cell_type": "code",
   "execution_count": null,
   "id": "680603b9",
   "metadata": {},
   "outputs": [],
   "source": []
  }
 ],
 "metadata": {
  "kernelspec": {
   "display_name": "Python 3",
   "language": "python",
   "name": "python3"
  },
  "language_info": {
   "codemirror_mode": {
    "name": "ipython",
    "version": 3
   },
   "file_extension": ".py",
   "mimetype": "text/x-python",
   "name": "python",
   "nbconvert_exporter": "python",
   "pygments_lexer": "ipython3",
   "version": "3.8.8"
  }
 },
 "nbformat": 4,
 "nbformat_minor": 5
}
