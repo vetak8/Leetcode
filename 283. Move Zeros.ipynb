{
 "cells": [
  {
   "cell_type": "markdown",
   "id": "78d30d84",
   "metadata": {},
   "source": [
    "Учитывая целочисленный массив nums, переместите все 0 в его конец, сохраняя относительный порядок ненулевых элементов.\n",
    "\n",
    "Обратите внимание, что вы должны сделать это на месте, не создавая копию массива.\n",
    "\n",
    "Последующие действия: Не могли бы вы свести к минимуму общее количество выполненных операций?"
   ]
  },
  {
   "cell_type": "code",
   "execution_count": 2,
   "id": "de9d8e3a",
   "metadata": {},
   "outputs": [],
   "source": [
    "from typing import List"
   ]
  },
  {
   "cell_type": "code",
   "execution_count": 16,
   "id": "4a6dbf64",
   "metadata": {},
   "outputs": [],
   "source": [
    "def moveZeroes(nums: List[int]) -> None:\n",
    "        \"\"\"\n",
    "        Do not return anything, modify nums in-place instead.\n",
    "        \"\"\"\n",
    "        zero_count = 0\n",
    "        i = 0\n",
    "        while i < len(nums):\n",
    "            \n",
    "            if nums[i] == 0:\n",
    "                zero_count += 1\n",
    "            else:\n",
    "                nums[i - zero_count] = nums[i]\n",
    "            print(nums, zero_count) \n",
    "            i += 1\n",
    "            \n",
    "        for i in range(-zero_count, 0):\n",
    "            nums[i] = 0\n",
    "        return nums"
   ]
  },
  {
   "cell_type": "code",
   "execution_count": 17,
   "id": "c942bbcc",
   "metadata": {},
   "outputs": [
    {
     "name": "stdout",
     "output_type": "stream",
     "text": [
      "[0, 1, 0, 3, 12] 1\n",
      "[1, 1, 0, 3, 12] 1\n",
      "[1, 1, 0, 3, 12] 2\n",
      "[1, 3, 0, 3, 12] 2\n",
      "[1, 3, 12, 3, 12] 2\n"
     ]
    },
    {
     "data": {
      "text/plain": [
       "[1, 3, 12, 0, 0]"
      ]
     },
     "execution_count": 17,
     "metadata": {},
     "output_type": "execute_result"
    }
   ],
   "source": [
    "moveZeroes([0, 1, 0, 3, 12])"
   ]
  },
  {
   "cell_type": "markdown",
   "id": "55e47af8",
   "metadata": {},
   "source": [
    "Проходим мо массиву.\n",
    "Если встречаем ноль, то увеличиваем счетчик нолей на 1, иначе ненулевое значение присваеваем элементу массива с индексом смещенным на количество подсчитанных нулей влево"
   ]
  },
  {
   "cell_type": "code",
   "execution_count": null,
   "id": "03fff856",
   "metadata": {},
   "outputs": [],
   "source": []
  }
 ],
 "metadata": {
  "kernelspec": {
   "display_name": "Python 3 (ipykernel)",
   "language": "python",
   "name": "python3"
  },
  "language_info": {
   "codemirror_mode": {
    "name": "ipython",
    "version": 3
   },
   "file_extension": ".py",
   "mimetype": "text/x-python",
   "name": "python",
   "nbconvert_exporter": "python",
   "pygments_lexer": "ipython3",
   "version": "3.9.7"
  }
 },
 "nbformat": 4,
 "nbformat_minor": 5
}
