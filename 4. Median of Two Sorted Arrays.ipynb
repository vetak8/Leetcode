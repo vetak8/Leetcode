{
 "cells": [
  {
   "cell_type": "markdown",
   "id": "c73847f5",
   "metadata": {},
   "source": [
    "Given two sorted arrays nums1 and nums2 of size m and n respectively, return the median of the two sorted arrays.\n",
    "\n",
    "The overall run time complexity should be O(log (m+n))\n",
    "\n",
    "Совместить отсортированные списки и найти медиану"
   ]
  },
  {
   "cell_type": "code",
   "execution_count": 42,
   "id": "3109f261",
   "metadata": {},
   "outputs": [],
   "source": [
    "from typing import List"
   ]
  },
  {
   "cell_type": "code",
   "execution_count": 49,
   "id": "94b5f8a9",
   "metadata": {},
   "outputs": [],
   "source": [
    "class Solution:\n",
    "    @ staticmethod\n",
    "    def findMedianSortedArrays(self, nums1: List[int], nums2: List[int]) -> float:\n",
    "        nums1.extend(nums2)\n",
    "        nums1.sort()\n",
    "        n = len(nums1)\n",
    "        if n % 2 == 0:\n",
    "            res = (nums1[n//2] + nums1[n//2 - 1]) / 2\n",
    "        else:\n",
    "            res = nums1[n//2]\n",
    "        return res\n",
    "\n",
    "        "
   ]
  },
  {
   "cell_type": "code",
   "execution_count": 50,
   "id": "180b2cb1",
   "metadata": {},
   "outputs": [],
   "source": [
    "# def findMedianSortedArrays(nums1: List[int], nums2: List[int]) -> float:\n",
    "#     nums1.extend(nums2)\n",
    "#     nums1.sort()\n",
    "#     n = len(nums1)\n",
    "#     if n % 2 == 0:\n",
    "#         res = (nums1[n//2] + nums1[n//2 - 1]) / 2\n",
    "#     else:\n",
    "#         res = nums1[n//2]\n",
    "#     return res\n",
    "    \n"
   ]
  },
  {
   "cell_type": "code",
   "execution_count": 51,
   "id": "d843ea4e",
   "metadata": {},
   "outputs": [],
   "source": [
    "a = Solution\n"
   ]
  },
  {
   "cell_type": "code",
   "execution_count": 64,
   "id": "705b2943",
   "metadata": {},
   "outputs": [
    {
     "data": {
      "text/plain": [
       "19.0"
      ]
     },
     "execution_count": 64,
     "metadata": {},
     "output_type": "execute_result"
    }
   ],
   "source": [
    "a.findMedianSortedArrays(a,[34,45,2], [35,4,4])"
   ]
  },
  {
   "cell_type": "code",
   "execution_count": null,
   "id": "9dadd632",
   "metadata": {},
   "outputs": [],
   "source": []
  }
 ],
 "metadata": {
  "kernelspec": {
   "display_name": "Python 3",
   "language": "python",
   "name": "python3"
  },
  "language_info": {
   "codemirror_mode": {
    "name": "ipython",
    "version": 3
   },
   "file_extension": ".py",
   "mimetype": "text/x-python",
   "name": "python",
   "nbconvert_exporter": "python",
   "pygments_lexer": "ipython3",
   "version": "3.8.8"
  }
 },
 "nbformat": 4,
 "nbformat_minor": 5
}
