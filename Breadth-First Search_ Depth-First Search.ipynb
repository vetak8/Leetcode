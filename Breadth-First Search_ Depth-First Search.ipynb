{
 "cells": [
  {
   "cell_type": "markdown",
   "id": "21f31914",
   "metadata": {},
   "source": [
    "# 200. Number of Islands"
   ]
  },
  {
   "cell_type": "markdown",
   "id": "53819fa0",
   "metadata": {},
   "source": [
    "Учитывая двумерную двоичную сетку m x n, которая представляет собой карту «1» (земля) и «0» (вода),\n",
    "\n",
    "верните количество островов.\n",
    "\n",
    "Остров окружен водой и образован путем соединения соседних земель по горизонтали или вертикали.\n",
    "\n",
    "Вы можете предположить, что все четыре края сетки окружены водой."
   ]
  },
  {
   "cell_type": "code",
   "execution_count": 1,
   "id": "55cefaa3",
   "metadata": {},
   "outputs": [],
   "source": [
    "from typing import List"
   ]
  },
  {
   "cell_type": "code",
   "execution_count": 2,
   "id": "5bbe6c07",
   "metadata": {},
   "outputs": [],
   "source": [
    "import collections"
   ]
  },
  {
   "cell_type": "code",
   "execution_count": 32,
   "id": "a489f103",
   "metadata": {},
   "outputs": [],
   "source": [
    "def numIslands(grid: List[List[str]]) -> int:\n",
    "    if not grid:\n",
    "        return 0\n",
    "    \n",
    "    rows, cols = len(grid), len(grid[0])\n",
    "    visit = set()\n",
    "    islands = 0\n",
    "    \n",
    "    \n",
    "    def bfs(r, c):\n",
    "        q = collections.deque()\n",
    "        visit.add((r, c))\n",
    "        q.append((r, c))\n",
    "        \n",
    "        while q:\n",
    "            row, col = q.popleft()\n",
    "            directions = [(0, 1), (0, -1), (1, 0), (-1, 0)]\n",
    "            \n",
    "            for dr, rc in directions:\n",
    "                r, c = row + dr, col + dc\n",
    "                if (r in range(rows) and \n",
    "                    c in range(cols) and\n",
    "                    grid[r][c] =='1' and\n",
    "                    (r, c) not in visit) :\n",
    "                    q.append((r, c))\n",
    "                    visit.add((r, c))\n",
    "                \n",
    "    for r in range(rows):\n",
    "        for c in range(cols):\n",
    "            if grid[r][c] == '1' and (r, c) not in visit:\n",
    "                bfs(r, c)\n",
    "                islands += 1\n",
    "        return islands"
   ]
  },
  {
   "cell_type": "code",
   "execution_count": 25,
   "id": "f80150c4",
   "metadata": {},
   "outputs": [],
   "source": [
    "import collections"
   ]
  },
  {
   "cell_type": "code",
   "execution_count": 41,
   "id": "ce91fe18",
   "metadata": {},
   "outputs": [],
   "source": [
    "def numIslands(grid: List[List[str]]) -> int:\n",
    "    if not grid:\n",
    "        return 0\n",
    "    rows, cols = len(grid), len(grid[0])\n",
    "    islands = 0\n",
    "    \n",
    "    for r in  range(rows):\n",
    "        for c in range(cols):\n",
    "            if grid[r][c] == '1':\n",
    "                \n",
    "                q = collections.deque([(r, c)])\n",
    "                grid[r][c] = '2'\n",
    "                while q:\n",
    "                    \n",
    "                    x, y = q.popleft()\n",
    "                    for dx, dy in [(0, 1), (0, -1), (1, 0), (-1, 0)]:\n",
    "                        xx, yy = dx + x, dy + y\n",
    "                        \n",
    "                        if 0 <= xx < rows and 0 <= yy < cols and grid[xx][yy] == '1':\n",
    "                            q.append((xx, yy))\n",
    "                            grid[xx][yy] = '2'\n",
    "                \n",
    "                \n",
    "                \n",
    "                \n",
    "                \n",
    "                islands += 1\n",
    "          \n",
    "    return islands\n",
    "                \n",
    "                \n",
    "                \n",
    "            "
   ]
  },
  {
   "cell_type": "code",
   "execution_count": 42,
   "id": "43c1e31e",
   "metadata": {},
   "outputs": [
    {
     "data": {
      "text/plain": [
       "3"
      ]
     },
     "execution_count": 42,
     "metadata": {},
     "output_type": "execute_result"
    }
   ],
   "source": [
    "grid = [\n",
    "  [\"1\",\"1\",\"1\",\"1\",\"0\"],\n",
    "  [\"1\",\"1\",\"0\",\"1\",\"0\"],\n",
    "  [\"1\",\"1\",\"0\",\"0\",\"0\"],\n",
    "  [\"0\",\"0\",\"1\",\"0\",\"1\"]\n",
    "]\n",
    "numIslands(grid)"
   ]
  },
  {
   "cell_type": "markdown",
   "id": "74fc64b4",
   "metadata": {},
   "source": [
    "# 547. Number of Provinces"
   ]
  },
  {
   "cell_type": "markdown",
   "id": "9117d5f2",
   "metadata": {},
   "source": [
    "Есть n городов. Некоторые из них связаны, в то время как некоторые нет. \n",
    "\n",
    "Если город a связан напрямую с городом b, а город b связан напрямую с городом c, \n",
    "\n",
    "город a связан косвенно с городским советом.\n",
    "\n",
    "Провинция - это группа городов, прямо или косвенно связанных между собой, \n",
    "\n",
    "и никаких других городов за пределами группы.\n",
    "\n",
    "Вам дана матрица n x n подключена, где подключено [i] [j] = 1, если i-й город и j-й город напрямую соединены, \n",
    "\n",
    "и подключено [i][j] = 0 в противном случае.\n",
    "\n",
    "Возвращает общее количество провинций."
   ]
  },
  {
   "cell_type": "code",
   "execution_count": 3,
   "id": "c6f0d4c6",
   "metadata": {},
   "outputs": [],
   "source": [
    "from typing import List"
   ]
  },
  {
   "cell_type": "code",
   "execution_count": 19,
   "id": "88f0c75d",
   "metadata": {},
   "outputs": [],
   "source": [
    "def findCircleNum(isConnected: List[List[int]]) -> int:\n",
    "    n = len(isConnected)\n",
    "    visited = [False] * n\n",
    "    def trav(x):\n",
    "        if not visited[x]:\n",
    "            visited[x] = True\n",
    "            for i in range(n):\n",
    "                if isConnected[i][x]:\n",
    "                    trav(i)\n",
    "            \n",
    "    res = 0\n",
    "    for i in range(n):\n",
    "        if not visited[i]:\n",
    "            trav(i)\n",
    "            res += 1\n",
    "            \n",
    "    return res\n",
    "\n",
    "    "
   ]
  },
  {
   "cell_type": "code",
   "execution_count": 21,
   "id": "fe9cc956",
   "metadata": {},
   "outputs": [
    {
     "data": {
      "text/plain": [
       "2"
      ]
     },
     "execution_count": 21,
     "metadata": {},
     "output_type": "execute_result"
    }
   ],
   "source": [
    "findCircleNum([[1,0,0], [1,1,0], [0,0,0]])"
   ]
  },
  {
   "cell_type": "code",
   "execution_count": null,
   "id": "057fa7d3",
   "metadata": {},
   "outputs": [],
   "source": []
  }
 ],
 "metadata": {
  "kernelspec": {
   "display_name": "Python 3 (ipykernel)",
   "language": "python",
   "name": "python3"
  },
  "language_info": {
   "codemirror_mode": {
    "name": "ipython",
    "version": 3
   },
   "file_extension": ".py",
   "mimetype": "text/x-python",
   "name": "python",
   "nbconvert_exporter": "python",
   "pygments_lexer": "ipython3",
   "version": "3.9.7"
  }
 },
 "nbformat": 4,
 "nbformat_minor": 5
}
