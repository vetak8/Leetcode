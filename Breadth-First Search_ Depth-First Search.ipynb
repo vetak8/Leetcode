{
 "cells": [
  {
   "cell_type": "markdown",
   "id": "21f31914",
   "metadata": {},
   "source": [
    "# 200. Number of Islands"
   ]
  },
  {
   "cell_type": "markdown",
   "id": "53819fa0",
   "metadata": {},
   "source": [
    "Учитывая двумерную двоичную сетку m x n, которая представляет собой карту «1» (земля) и «0» (вода),\n",
    "\n",
    "верните количество островов.\n",
    "\n",
    "Остров окружен водой и образован путем соединения соседних земель по горизонтали или вертикали.\n",
    "\n",
    "Вы можете предположить, что все четыре края сетки окружены водой."
   ]
  },
  {
   "cell_type": "code",
   "execution_count": 1,
   "id": "55cefaa3",
   "metadata": {},
   "outputs": [],
   "source": [
    "from typing import List"
   ]
  },
  {
   "cell_type": "code",
   "execution_count": 2,
   "id": "5bbe6c07",
   "metadata": {},
   "outputs": [],
   "source": [
    "import collections"
   ]
  },
  {
   "cell_type": "code",
   "execution_count": 32,
   "id": "a489f103",
   "metadata": {},
   "outputs": [],
   "source": [
    "def numIslands(grid: List[List[str]]) -> int:\n",
    "    if not grid:\n",
    "        return 0\n",
    "    \n",
    "    rows, cols = len(grid), len(grid[0])\n",
    "    visit = set()\n",
    "    islands = 0\n",
    "    \n",
    "    \n",
    "    def bfs(r, c):\n",
    "        q = collections.deque()\n",
    "        visit.add((r, c))\n",
    "        q.append((r, c))\n",
    "        \n",
    "        while q:\n",
    "            row, col = q.popleft()\n",
    "            directions = [(0, 1), (0, -1), (1, 0), (-1, 0)]\n",
    "            \n",
    "            for dr, rc in directions:\n",
    "                r, c = row + dr, col + dc\n",
    "                if (r in range(rows) and \n",
    "                    c in range(cols) and\n",
    "                    grid[r][c] =='1' and\n",
    "                    (r, c) not in visit) :\n",
    "                    q.append((r, c))\n",
    "                    visit.add((r, c))\n",
    "                \n",
    "    for r in range(rows):\n",
    "        for c in range(cols):\n",
    "            if grid[r][c] == '1' and (r, c) not in visit:\n",
    "                bfs(r, c)\n",
    "                islands += 1\n",
    "        return islands"
   ]
  },
  {
   "cell_type": "code",
   "execution_count": null,
   "id": "2cc5ee03",
   "metadata": {},
   "outputs": [],
   "source": []
  }
 ],
 "metadata": {
  "kernelspec": {
   "display_name": "Python 3 (ipykernel)",
   "language": "python",
   "name": "python3"
  },
  "language_info": {
   "codemirror_mode": {
    "name": "ipython",
    "version": 3
   },
   "file_extension": ".py",
   "mimetype": "text/x-python",
   "name": "python",
   "nbconvert_exporter": "python",
   "pygments_lexer": "ipython3",
   "version": "3.9.7"
  }
 },
 "nbformat": 4,
 "nbformat_minor": 5
}
