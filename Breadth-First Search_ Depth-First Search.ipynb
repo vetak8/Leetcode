{
 "cells": [
  {
   "cell_type": "markdown",
   "id": "21f31914",
   "metadata": {},
   "source": [
    "# 200. Number of Islands"
   ]
  },
  {
   "cell_type": "markdown",
   "id": "53819fa0",
   "metadata": {},
   "source": [
    "Учитывая двумерную двоичную сетку m x n, которая представляет собой карту «1» (земля) и «0» (вода),\n",
    "\n",
    "верните количество островов.\n",
    "\n",
    "Остров окружен водой и образован путем соединения соседних земель по горизонтали или вертикали.\n",
    "\n",
    "Вы можете предположить, что все четыре края сетки окружены водой."
   ]
  },
  {
   "cell_type": "code",
   "execution_count": 1,
   "id": "55cefaa3",
   "metadata": {},
   "outputs": [],
   "source": [
    "from typing import List"
   ]
  },
  {
   "cell_type": "code",
   "execution_count": 2,
   "id": "5bbe6c07",
   "metadata": {},
   "outputs": [],
   "source": [
    "import collections"
   ]
  },
  {
   "cell_type": "code",
   "execution_count": 32,
   "id": "a489f103",
   "metadata": {},
   "outputs": [],
   "source": [
    "def numIslands(grid: List[List[str]]) -> int:\n",
    "    if not grid:\n",
    "        return 0\n",
    "    \n",
    "    rows, cols = len(grid), len(grid[0])\n",
    "    visit = set()\n",
    "    islands = 0\n",
    "    \n",
    "    \n",
    "    def bfs(r, c):\n",
    "        q = collections.deque()\n",
    "        visit.add((r, c))\n",
    "        q.append((r, c))\n",
    "        \n",
    "        while q:\n",
    "            row, col = q.popleft()\n",
    "            directions = [(0, 1), (0, -1), (1, 0), (-1, 0)]\n",
    "            \n",
    "            for dr, rc in directions:\n",
    "                r, c = row + dr, col + dc\n",
    "                if (r in range(rows) and \n",
    "                    c in range(cols) and\n",
    "                    grid[r][c] =='1' and\n",
    "                    (r, c) not in visit) :\n",
    "                    q.append((r, c))\n",
    "                    visit.add((r, c))\n",
    "                \n",
    "    for r in range(rows):\n",
    "        for c in range(cols):\n",
    "            if grid[r][c] == '1' and (r, c) not in visit:\n",
    "                bfs(r, c)\n",
    "                islands += 1\n",
    "        return islands"
   ]
  },
  {
   "cell_type": "code",
   "execution_count": 25,
   "id": "f80150c4",
   "metadata": {},
   "outputs": [],
   "source": [
    "import collections"
   ]
  },
  {
   "cell_type": "code",
   "execution_count": 41,
   "id": "ce91fe18",
   "metadata": {},
   "outputs": [],
   "source": [
    "def numIslands(grid: List[List[str]]) -> int:\n",
    "    if not grid:\n",
    "        return 0\n",
    "    rows, cols = len(grid), len(grid[0])\n",
    "    islands = 0\n",
    "    \n",
    "    for r in  range(rows):\n",
    "        for c in range(cols):\n",
    "            if grid[r][c] == '1':\n",
    "                \n",
    "                q = collections.deque([(r, c)])\n",
    "                grid[r][c] = '2'\n",
    "                while q:\n",
    "                    \n",
    "                    x, y = q.popleft()\n",
    "                    for dx, dy in [(0, 1), (0, -1), (1, 0), (-1, 0)]:\n",
    "                        xx, yy = dx + x, dy + y\n",
    "                        \n",
    "                        if 0 <= xx < rows and 0 <= yy < cols and grid[xx][yy] == '1':\n",
    "                            q.append((xx, yy))\n",
    "                            grid[xx][yy] = '2'\n",
    "                \n",
    "                \n",
    "                \n",
    "                \n",
    "                \n",
    "                islands += 1\n",
    "          \n",
    "    return islands\n",
    "                \n",
    "                \n",
    "                \n",
    "            "
   ]
  },
  {
   "cell_type": "code",
   "execution_count": 42,
   "id": "43c1e31e",
   "metadata": {},
   "outputs": [
    {
     "data": {
      "text/plain": [
       "3"
      ]
     },
     "execution_count": 42,
     "metadata": {},
     "output_type": "execute_result"
    }
   ],
   "source": [
    "grid = [\n",
    "  [\"1\",\"1\",\"1\",\"1\",\"0\"],\n",
    "  [\"1\",\"1\",\"0\",\"1\",\"0\"],\n",
    "  [\"1\",\"1\",\"0\",\"0\",\"0\"],\n",
    "  [\"0\",\"0\",\"1\",\"0\",\"1\"]\n",
    "]\n",
    "numIslands(grid)"
   ]
  },
  {
   "cell_type": "markdown",
   "id": "74fc64b4",
   "metadata": {},
   "source": [
    "# 547. Number of Provinces"
   ]
  },
  {
   "cell_type": "markdown",
   "id": "9117d5f2",
   "metadata": {},
   "source": [
    "Есть n городов. Некоторые из них связаны, в то время как некоторые нет. \n",
    "\n",
    "Если город a связан напрямую с городом b, а город b связан напрямую с городом c, \n",
    "\n",
    "город a связан косвенно с городским советом.\n",
    "\n",
    "Провинция - это группа городов, прямо или косвенно связанных между собой, \n",
    "\n",
    "и никаких других городов за пределами группы.\n",
    "\n",
    "Вам дана матрица n x n подключена, где подключено [i] [j] = 1, если i-й город и j-й город напрямую соединены, \n",
    "\n",
    "и подключено [i][j] = 0 в противном случае.\n",
    "\n",
    "Возвращает общее количество провинций."
   ]
  },
  {
   "cell_type": "code",
   "execution_count": 3,
   "id": "c6f0d4c6",
   "metadata": {},
   "outputs": [],
   "source": [
    "from typing import List"
   ]
  },
  {
   "cell_type": "code",
   "execution_count": 19,
   "id": "88f0c75d",
   "metadata": {},
   "outputs": [],
   "source": [
    "def findCircleNum(isConnected: List[List[int]]) -> int:\n",
    "    n = len(isConnected)\n",
    "    visited = [False] * n\n",
    "    def trav(x):\n",
    "        if not visited[x]:\n",
    "            visited[x] = True\n",
    "            for i in range(n):\n",
    "                if isConnected[i][x]:\n",
    "                    trav(i)\n",
    "            \n",
    "    res = 0\n",
    "    for i in range(n):\n",
    "        if not visited[i]:\n",
    "            trav(i)\n",
    "            res += 1\n",
    "            \n",
    "    return res\n",
    "\n",
    "    "
   ]
  },
  {
   "cell_type": "code",
   "execution_count": 21,
   "id": "fe9cc956",
   "metadata": {
    "scrolled": true
   },
   "outputs": [
    {
     "data": {
      "text/plain": [
       "2"
      ]
     },
     "execution_count": 21,
     "metadata": {},
     "output_type": "execute_result"
    }
   ],
   "source": [
    "findCircleNum([[1,0,0], [1,1,0], [0,0,0]])"
   ]
  },
  {
   "cell_type": "markdown",
   "id": "ac58ecb6",
   "metadata": {},
   "source": [
    "# 117. Populating Next Right Pointers in Each Node II"
   ]
  },
  {
   "cell_type": "markdown",
   "id": "4c816aff",
   "metadata": {},
   "source": [
    "Given a binary tree\n",
    "\n",
    "struct Node {\n",
    "  int val;\n",
    "  Node *left;\n",
    "  Node *right;\n",
    "  Node *next;\n",
    "}\n",
    "\n",
    "Заполняйте каждый следующий указатель так, чтобы он указывал на его следующий правый узел. \n",
    "\n",
    "Если следующего правого узла нет, следующий указатель должен быть установлен в значение NULL.\n",
    "\n",
    "Изначально всем следующим указателям присваивается значение NULL."
   ]
  },
  {
   "cell_type": "code",
   "execution_count": 2,
   "id": "ceb6e4cf",
   "metadata": {},
   "outputs": [],
   "source": [
    "def connect(self, root: 'Node') -> 'Node':\n",
    "    if not root:\n",
    "        return root\n",
    "    \n",
    "    q = []\n",
    "    q.append(root)\n",
    "    tail = root\n",
    "    \n",
    "    while len(q) > 0:\n",
    "        node = q.pop(0)\n",
    "        if node.left:\n",
    "            q.append(node.left)\n",
    "        if node.right:\n",
    "            q.append(node.right)\n",
    "            \n",
    "        if node == tail:\n",
    "            node.next = None\n",
    "            tail = q[-1] if len(q) > 0 else None\n",
    "        else:\n",
    "            node.next = q[0]\n",
    "    return root"
   ]
  },
  {
   "cell_type": "markdown",
   "id": "07287743",
   "metadata": {},
   "source": [
    "# 572. Subtree of Another Tree"
   ]
  },
  {
   "cell_type": "markdown",
   "id": "58d88a3e",
   "metadata": {},
   "source": [
    "Учитывая корни двух двоичных деревьев root и subRoot,\n",
    "\n",
    "верните true, если существует поддерево root с той же структурой и значениями узла subRoot и false в противном случае.\n",
    "\n",
    "Поддерево бинарного дерева - это дерево, состоящее из узла в дереве и всех потомков этого узла.\n",
    "\n",
    "Древовидное дерево также можно рассматривать как само поддерево."
   ]
  },
  {
   "cell_type": "code",
   "execution_count": 10,
   "id": "84145612",
   "metadata": {},
   "outputs": [],
   "source": [
    "from typing import Optional"
   ]
  },
  {
   "cell_type": "code",
   "execution_count": 18,
   "id": "cc9e10b9",
   "metadata": {},
   "outputs": [],
   "source": [
    "# Definition for a binary tree node.\n",
    "class TreeNode:\n",
    "    def __init__(self, val=0, left=None, right=None):\n",
    "        self.val = val\n",
    "        self.left = left\n",
    "        self.right = right\n",
    "class Solution:\n",
    "    def isSubtree(self, s: Optional[TreeNode], t: Optional[TreeNode]) -> bool:\n",
    "            def foo(s, t):\n",
    "                if not root and not subRoot:\n",
    "                    return True\n",
    "                elif s and t:\n",
    "                    return s.val == t.val and foo(s.left, t.left) and foo(s.right, t.right)\n",
    "                else:\n",
    "                    return False\n",
    "                \n",
    "                \n",
    "            return bool(s and t) and (foo(s, t) or self.isSubtree(s.left, t) or self.isSubtree(s.right, t))\n",
    "                    "
   ]
  },
  {
   "cell_type": "code",
   "execution_count": 19,
   "id": "f60c54fc",
   "metadata": {},
   "outputs": [
    {
     "ename": "AttributeError",
     "evalue": "'list' object has no attribute 'val'",
     "output_type": "error",
     "traceback": [
      "\u001b[1;31m---------------------------------------------------------------------------\u001b[0m",
      "\u001b[1;31mAttributeError\u001b[0m                            Traceback (most recent call last)",
      "\u001b[1;32m~\\AppData\\Local\\Temp/ipykernel_11712/3484887747.py\u001b[0m in \u001b[0;36m<module>\u001b[1;34m\u001b[0m\n\u001b[0;32m      2\u001b[0m \u001b[0msubRoot\u001b[0m \u001b[1;33m=\u001b[0m \u001b[1;33m[\u001b[0m\u001b[1;36m4\u001b[0m\u001b[1;33m,\u001b[0m\u001b[1;36m1\u001b[0m\u001b[1;33m,\u001b[0m\u001b[1;36m2\u001b[0m\u001b[1;33m]\u001b[0m\u001b[1;33m\u001b[0m\u001b[1;33m\u001b[0m\u001b[0m\n\u001b[0;32m      3\u001b[0m \u001b[0ms\u001b[0m \u001b[1;33m=\u001b[0m \u001b[0mSolution\u001b[0m\u001b[1;33m(\u001b[0m\u001b[1;33m)\u001b[0m\u001b[1;33m\u001b[0m\u001b[1;33m\u001b[0m\u001b[0m\n\u001b[1;32m----> 4\u001b[1;33m \u001b[0ms\u001b[0m\u001b[1;33m.\u001b[0m\u001b[0misSubtree\u001b[0m\u001b[1;33m(\u001b[0m\u001b[0mroot\u001b[0m\u001b[1;33m,\u001b[0m \u001b[0msubRoot\u001b[0m\u001b[1;33m)\u001b[0m\u001b[1;33m\u001b[0m\u001b[1;33m\u001b[0m\u001b[0m\n\u001b[0m",
      "\u001b[1;32m~\\AppData\\Local\\Temp/ipykernel_11712/2309968717.py\u001b[0m in \u001b[0;36misSubtree\u001b[1;34m(self, s, t)\u001b[0m\n\u001b[0;32m     16\u001b[0m \u001b[1;33m\u001b[0m\u001b[0m\n\u001b[0;32m     17\u001b[0m \u001b[1;33m\u001b[0m\u001b[0m\n\u001b[1;32m---> 18\u001b[1;33m             \u001b[1;32mreturn\u001b[0m \u001b[0mbool\u001b[0m\u001b[1;33m(\u001b[0m\u001b[0ms\u001b[0m \u001b[1;32mand\u001b[0m \u001b[0mt\u001b[0m\u001b[1;33m)\u001b[0m \u001b[1;32mand\u001b[0m \u001b[1;33m(\u001b[0m\u001b[0mfoo\u001b[0m\u001b[1;33m(\u001b[0m\u001b[0ms\u001b[0m\u001b[1;33m,\u001b[0m \u001b[0mt\u001b[0m\u001b[1;33m)\u001b[0m \u001b[1;32mor\u001b[0m \u001b[0mself\u001b[0m\u001b[1;33m.\u001b[0m\u001b[0misSubtree\u001b[0m\u001b[1;33m(\u001b[0m\u001b[0ms\u001b[0m\u001b[1;33m.\u001b[0m\u001b[0mleft\u001b[0m\u001b[1;33m,\u001b[0m \u001b[0mt\u001b[0m\u001b[1;33m)\u001b[0m \u001b[1;32mor\u001b[0m \u001b[0mself\u001b[0m\u001b[1;33m.\u001b[0m\u001b[0misSubtree\u001b[0m\u001b[1;33m(\u001b[0m\u001b[0ms\u001b[0m\u001b[1;33m.\u001b[0m\u001b[0mright\u001b[0m\u001b[1;33m,\u001b[0m \u001b[0mt\u001b[0m\u001b[1;33m)\u001b[0m\u001b[1;33m)\u001b[0m\u001b[1;33m\u001b[0m\u001b[1;33m\u001b[0m\u001b[0m\n\u001b[0m\u001b[0;32m     19\u001b[0m \u001b[1;33m\u001b[0m\u001b[0m\n",
      "\u001b[1;32m~\\AppData\\Local\\Temp/ipykernel_11712/2309968717.py\u001b[0m in \u001b[0;36mfoo\u001b[1;34m(s, t)\u001b[0m\n\u001b[0;32m     11\u001b[0m                     \u001b[1;32mreturn\u001b[0m \u001b[1;32mTrue\u001b[0m\u001b[1;33m\u001b[0m\u001b[1;33m\u001b[0m\u001b[0m\n\u001b[0;32m     12\u001b[0m                 \u001b[1;32melif\u001b[0m \u001b[0ms\u001b[0m \u001b[1;32mand\u001b[0m \u001b[0mt\u001b[0m\u001b[1;33m:\u001b[0m\u001b[1;33m\u001b[0m\u001b[1;33m\u001b[0m\u001b[0m\n\u001b[1;32m---> 13\u001b[1;33m                     \u001b[1;32mreturn\u001b[0m \u001b[0ms\u001b[0m\u001b[1;33m.\u001b[0m\u001b[0mval\u001b[0m \u001b[1;33m==\u001b[0m \u001b[0mt\u001b[0m\u001b[1;33m.\u001b[0m\u001b[0mval\u001b[0m \u001b[1;32mand\u001b[0m \u001b[0mfoo\u001b[0m\u001b[1;33m(\u001b[0m\u001b[0ms\u001b[0m\u001b[1;33m.\u001b[0m\u001b[0mleft\u001b[0m\u001b[1;33m,\u001b[0m \u001b[0mt\u001b[0m\u001b[1;33m.\u001b[0m\u001b[0mleft\u001b[0m\u001b[1;33m)\u001b[0m \u001b[1;32mand\u001b[0m \u001b[0mfoo\u001b[0m\u001b[1;33m(\u001b[0m\u001b[0ms\u001b[0m\u001b[1;33m.\u001b[0m\u001b[0mright\u001b[0m\u001b[1;33m,\u001b[0m \u001b[0mt\u001b[0m\u001b[1;33m.\u001b[0m\u001b[0mright\u001b[0m\u001b[1;33m)\u001b[0m\u001b[1;33m\u001b[0m\u001b[1;33m\u001b[0m\u001b[0m\n\u001b[0m\u001b[0;32m     14\u001b[0m                 \u001b[1;32melse\u001b[0m\u001b[1;33m:\u001b[0m\u001b[1;33m\u001b[0m\u001b[1;33m\u001b[0m\u001b[0m\n\u001b[0;32m     15\u001b[0m                     \u001b[1;32mreturn\u001b[0m \u001b[1;32mFalse\u001b[0m\u001b[1;33m\u001b[0m\u001b[1;33m\u001b[0m\u001b[0m\n",
      "\u001b[1;31mAttributeError\u001b[0m: 'list' object has no attribute 'val'"
     ]
    }
   ],
   "source": [
    "root = [3,4,5,1,2]\n",
    "subRoot = [4,1,2]\n",
    "s = Solution()\n",
    "s.isSubtree(root, subRoot)"
   ]
  },
  {
   "cell_type": "markdown",
   "id": "345d7771",
   "metadata": {},
   "source": [
    "# 130. Surrounded Regions"
   ]
  },
  {
   "cell_type": "markdown",
   "id": "e09ce6b5",
   "metadata": {},
   "source": [
    "Учитывая матричную плату m x n, содержащую \"X\" и \"O\", \n",
    "\n",
    "захватите все области, которые в 4 направлениях окружены \"X\".\n",
    "\n",
    "Область захватывается путем преобразования всех \"О\" в \"Х\" в этой окруженной области."
   ]
  },
  {
   "cell_type": "markdown",
   "id": "de681b90",
   "metadata": {},
   "source": [
    "Пояснение: Обратите внимание, что букву \"О\" не следует переворачивать, если:\n",
    "\n",
    "- Это на границе, или\n",
    "- Он находится рядом с буквой \"О\", которую не следует переворачивать.\n",
    "\n",
    "Нижняя буква \"О\" находится на границе, поэтому она не переворачивается.\n",
    "Остальные три буквы \"О\" образуют окруженную область, поэтому они перевернуты."
   ]
  },
  {
   "cell_type": "code",
   "execution_count": 22,
   "id": "a05eddce",
   "metadata": {},
   "outputs": [],
   "source": [
    "from typing import List\n",
    "import collections"
   ]
  },
  {
   "cell_type": "code",
   "execution_count": 38,
   "id": "cb962ff9",
   "metadata": {},
   "outputs": [],
   "source": [
    "class Solution:\n",
    "    def solve(self, board: List[List[str]]) -> None:\n",
    "        \"\"\"\n",
    "        Do not return anything, modify board in-place instead.\n",
    "        \"\"\"\n",
    "        if not board:\n",
    "            return []\n",
    "        \n",
    "        \n",
    "        rows, cols = len(board), len(board[0])\n",
    "        def bsf(r, c):\n",
    "            q = collections.deque()\n",
    "            q.append((r, c))\n",
    "            \n",
    "            while q:\n",
    "                row, col = q.popleft()\n",
    "                directions = [(0, 1), (0, -1), (1, 0), (-1, 0)]\n",
    "                for dr, dc in directions:\n",
    "                    r, c = row + dr, col + dc\n",
    "                    \n",
    "                    if 0 <= r < cols and 0 <= c < rows and board[r][c] == 'O':\n",
    "                        q.append((r, c))\n",
    "                        board[row][col] = 'X'\n",
    "                        board[r][c] = 'X'\n",
    "                    elif r < 0 or c < 0:\n",
    "                        continue\n",
    "                        \n",
    "                \n",
    "        \n",
    "        for r in range(rows):\n",
    "            for c in range(cols):\n",
    "                if board[r][c] == 'O':\n",
    "                    bsf(r, c)\n",
    "                    \n",
    "        return board\n",
    "        "
   ]
  },
  {
   "cell_type": "code",
   "execution_count": 53,
   "id": "0d03cc38",
   "metadata": {},
   "outputs": [],
   "source": [
    "class Solution:\n",
    "    def solve(self, board: List[List[str]]) -> None:\n",
    "        rows, cols = len(board), len(board[0])\n",
    "        q = collections.deque()\n",
    "        for i in range(rows):\n",
    "            if board[0][i] == 'O':\n",
    "                q.append((0, i))\n",
    "            if rows > 1 and board[rows-1][i] == 'O':\n",
    "                q.append((rows-1, i))\n",
    "        for i in range(cols):\n",
    "            if board[i][0] == 'O':\n",
    "                q.append((i, 0))\n",
    "            if cols > 1 and board[i][cols-1] == 'O':\n",
    "                q.append((i, cols-1))\n",
    "                \n",
    "        while q:\n",
    "            \n",
    "            row, col = q.popleft()\n",
    "            board[row][col] = 'S'\n",
    "            for dr, dc in ((0, 1), (0, -1), (1, 0), (-1, 0)):\n",
    "                r, c = row + dr, col + dc\n",
    "                \n",
    "                if 0 <= r < cols and 0 <= c < rows and board[r][c] == 'O':\n",
    "                    q.append((r, c))\n",
    "                    \n",
    "        for r in range(rows):\n",
    "            for c in range(cols):\n",
    "                board[r][c] = 'X' if board[r][c] == 'O' else 'O' if board[r][c] == 'S' else board[r][c]\n",
    "            \n",
    "        return board   "
   ]
  },
  {
   "cell_type": "code",
   "execution_count": 54,
   "id": "18849ab0",
   "metadata": {},
   "outputs": [],
   "source": [
    "s = Solution()"
   ]
  },
  {
   "cell_type": "code",
   "execution_count": 55,
   "id": "b9e657b0",
   "metadata": {},
   "outputs": [
    {
     "data": {
      "text/plain": [
       "[['X', 'X', 'X', 'X'],\n",
       " ['X', 'X', 'X', 'X'],\n",
       " ['X', 'X', 'X', 'X'],\n",
       " ['X', 'O', 'X', 'X']]"
      ]
     },
     "execution_count": 55,
     "metadata": {},
     "output_type": "execute_result"
    }
   ],
   "source": [
    "s.solve(board = [[\"X\",\"X\",\"X\",\"X\"],[\"X\",\"O\",\"O\",\"X\"],[\"X\",\"X\",\"O\",\"X\"],[\"X\",\"O\",\"X\",\"X\"]])"
   ]
  },
  {
   "cell_type": "code",
   "execution_count": 56,
   "id": "0a6bb587",
   "metadata": {},
   "outputs": [
    {
     "data": {
      "text/plain": [
       "[['O', 'O'], ['O', 'O']]"
      ]
     },
     "execution_count": 56,
     "metadata": {},
     "output_type": "execute_result"
    }
   ],
   "source": [
    "s.solve(board = [[\"O\",\"O\"],[\"O\",\"O\"]])"
   ]
  },
  {
   "cell_type": "code",
   "execution_count": null,
   "id": "3c5e2cce",
   "metadata": {},
   "outputs": [],
   "source": []
  }
 ],
 "metadata": {
  "kernelspec": {
   "display_name": "Python 3 (ipykernel)",
   "language": "python",
   "name": "python3"
  },
  "language_info": {
   "codemirror_mode": {
    "name": "ipython",
    "version": 3
   },
   "file_extension": ".py",
   "mimetype": "text/x-python",
   "name": "python",
   "nbconvert_exporter": "python",
   "pygments_lexer": "ipython3",
   "version": "3.9.7"
  }
 },
 "nbformat": 4,
 "nbformat_minor": 5
}
