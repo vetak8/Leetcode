{
 "cells": [
  {
   "cell_type": "code",
   "execution_count": 40,
   "id": "6941b1bf",
   "metadata": {},
   "outputs": [],
   "source": [
    "class Solution:\n",
    "    def myAtoi(self, input: str) -> int:\n",
    "        sign = 1 \n",
    "        result = 0\n",
    "        index = 0\n",
    "        n = len(input)\n",
    "        \n",
    "        INT_MAX = pow(2,31) - 1 \n",
    "        INT_MIN = -pow(2,31)\n",
    "        \n",
    "        # Discard all spaces from the beginning of the input string.\n",
    "        while index < n and input[index] == ' ':\n",
    "            index += 1\n",
    "        \n",
    "        # sign = +1, if it's positive number, otherwise sign = -1. \n",
    "        if index < n and input[index] == '+':\n",
    "            sign = 1\n",
    "            index += 1\n",
    "        elif index < n and input[index] == '-':\n",
    "            sign = -1\n",
    "            index += 1\n",
    "        \n",
    "        # Traverse next digits of input and stop if it is not a digit. \n",
    "        # End of string is also non-digit character.\n",
    "        while index < n and input[index].isdigit():\n",
    "            digit = int(input[index])\n",
    "            \n",
    "            # Check overflow and underflow conditions. \n",
    "            if ((result > INT_MAX // 10) or (result == INT_MAX // 10 and digit > INT_MAX % 10)):\n",
    "                # If integer overflowed return 2^31-1, otherwise if underflowed return -2^31.    \n",
    "                return INT_MAX if sign == 1 else INT_MIN\n",
    "            \n",
    "            # Append current digit to the result.\n",
    "            result = 10 * result + digit\n",
    "            index += 1\n",
    "        \n",
    "        # We have formed a valid number without any overflow/underflow.\n",
    "        # Return it after multiplying it with its sign.\n",
    "        return sign * result"
   ]
  }
 ],
 "metadata": {
  "kernelspec": {
   "display_name": "Python 3",
   "language": "python",
   "name": "python3"
  },
  "language_info": {
   "codemirror_mode": {
    "name": "ipython",
    "version": 3
   },
   "file_extension": ".py",
   "mimetype": "text/x-python",
   "name": "python",
   "nbconvert_exporter": "python",
   "pygments_lexer": "ipython3",
   "version": "3.8.8"
  }
 },
 "nbformat": 4,
 "nbformat_minor": 5
}
