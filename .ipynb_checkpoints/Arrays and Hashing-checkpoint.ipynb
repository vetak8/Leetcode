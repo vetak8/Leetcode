{
 "cells": [
  {
   "cell_type": "markdown",
   "id": "5bea95ad",
   "metadata": {},
   "source": [
    "# 1299. Replace Elements with Greatest Element on Right Side"
   ]
  },
  {
   "cell_type": "markdown",
   "id": "a091134e",
   "metadata": {},
   "source": [
    "Учитывая массив arr, замените каждый элемент в этом массиве наибольшим элементом среди элементов справа от него и замените последний элемент на -1.\n",
    "\n",
    "После этого верните массив."
   ]
  },
  {
   "cell_type": "code",
   "execution_count": 24,
   "id": "69d3dfba",
   "metadata": {},
   "outputs": [],
   "source": [
    "from typing import List\n",
    "def replaceElements(arr: List[int]) -> List[int]:\n",
    "    rightMax = -1\n",
    "    for i in range(len(arr) - 1, -1, -1):\n",
    "        newMax = max(rightMax, arr[i])\n",
    "        arr[i] = rightMax\n",
    "        rightMax = newMax\n",
    "    return arr\n",
    "    "
   ]
  },
  {
   "cell_type": "code",
   "execution_count": 25,
   "id": "b149d368",
   "metadata": {},
   "outputs": [],
   "source": [
    "arr = [17,18,5,4,6,1]"
   ]
  },
  {
   "cell_type": "code",
   "execution_count": 26,
   "id": "a02b76f6",
   "metadata": {},
   "outputs": [
    {
     "data": {
      "text/plain": [
       "[18, 6, 6, 6, 1, -1]"
      ]
     },
     "execution_count": 26,
     "metadata": {},
     "output_type": "execute_result"
    }
   ],
   "source": [
    "replaceElements(arr)"
   ]
  },
  {
   "cell_type": "code",
   "execution_count": 17,
   "id": "c315e779",
   "metadata": {},
   "outputs": [
    {
     "data": {
      "text/plain": [
       "[-1]"
      ]
     },
     "execution_count": 17,
     "metadata": {},
     "output_type": "execute_result"
    }
   ],
   "source": [
    "replaceElements([400])"
   ]
  },
  {
   "cell_type": "markdown",
   "id": "d2c800dd",
   "metadata": {},
   "source": [
    "# 392. Is Subsequence"
   ]
  },
  {
   "cell_type": "markdown",
   "id": "35ec5543",
   "metadata": {},
   "source": [
    "Учитывая две строки s и t, верните true, если s является подпоследовательностью t, \n",
    "\n",
    "или false в противном случае.\n",
    "\n",
    "Подпоследовательность строки - это новая строка, \n",
    "\n",
    "которая формируется из исходной строки путем удаления некоторых (может не быть ни одного) символов без нарушения взаимного расположения оставшихся символов.\n",
    "\n",
    "(т.е. \"ace\" является подпоследовательностью \"abcde\", в то время как \"aec\" - нет)."
   ]
  },
  {
   "cell_type": "code",
   "execution_count": 1,
   "id": "497af99e",
   "metadata": {},
   "outputs": [],
   "source": [
    " def isSubsequence(s: str, t: str) -> bool:\n",
    "        i, j = 0, 0\n",
    "        while i < len(s) and j < len(t):\n",
    "            if s[i] == t[j]:\n",
    "                i +=1\n",
    "            j += 1\n",
    "        return i == len(s)"
   ]
  },
  {
   "cell_type": "code",
   "execution_count": 2,
   "id": "bf5d4242",
   "metadata": {},
   "outputs": [
    {
     "data": {
      "text/plain": [
       "True"
      ]
     },
     "execution_count": 2,
     "metadata": {},
     "output_type": "execute_result"
    }
   ],
   "source": [
    "isSubsequence('as', 'ajhs')"
   ]
  },
  {
   "cell_type": "markdown",
   "id": "76669bf4",
   "metadata": {},
   "source": [
    "# 1. Two Sum"
   ]
  },
  {
   "cell_type": "markdown",
   "id": "62f356c3",
   "metadata": {},
   "source": [
    "Учитывая массив целых чисел nums и целочисленное целевое значение, \n",
    "\n",
    "верните индексы двух чисел таким образом, чтобы они складывались в target.\n",
    "\n",
    "Вы можете предположить, что каждый входной сигнал будет иметь ровно одно решение, \n",
    "\n",
    "и вы не можете использовать один и тот же элемент дважды.\n",
    "\n",
    "Вы можете вернуть ответ в любом порядке."
   ]
  },
  {
   "cell_type": "code",
   "execution_count": 4,
   "id": "b34fd96c",
   "metadata": {},
   "outputs": [],
   "source": [
    "from typing import List"
   ]
  },
  {
   "cell_type": "code",
   "execution_count": 5,
   "id": "f0eda1b9",
   "metadata": {},
   "outputs": [],
   "source": [
    "def twoSum(nums: List[int], target: int) -> List[int]:\n",
    "    for i in range(len(nums)):\n",
    "        for j in range(i+1, len(nums)):\n",
    "            if nums[i] + nums[j] == target:\n",
    "                return [i, j]\n",
    "            \n",
    "# time  O(n^2)\n",
    "# space O(1)"
   ]
  },
  {
   "cell_type": "code",
   "execution_count": 24,
   "id": "e0d2a93a",
   "metadata": {},
   "outputs": [],
   "source": [
    "def twoSum(nums: List[int], target: int) -> List[int]:\n",
    "    prevMap = {}\n",
    "    \n",
    "    for i, n in enumerate(nums):\n",
    "        \n",
    "        diff = target - n\n",
    "        if diff in prevMap:\n",
    "            return [prevMap[diff], i]\n",
    "        \n",
    "        prevMap[n] = i"
   ]
  },
  {
   "cell_type": "code",
   "execution_count": 25,
   "id": "67a4b321",
   "metadata": {},
   "outputs": [
    {
     "data": {
      "text/plain": [
       "[0, 3]"
      ]
     },
     "execution_count": 25,
     "metadata": {},
     "output_type": "execute_result"
    }
   ],
   "source": [
    "twoSum(nums = [2,7,11,15], target = 17)"
   ]
  },
  {
   "cell_type": "markdown",
   "id": "bb61d970",
   "metadata": {},
   "source": [
    "# 14. Longest Common Prefix"
   ]
  },
  {
   "cell_type": "markdown",
   "id": "60f20310",
   "metadata": {},
   "source": [
    "Напишите функцию для поиска самой длинной строки общего префикса среди массива строк.\n",
    "\n",
    "Если общего префикса нет, верните пустую строку \"\"."
   ]
  },
  {
   "cell_type": "code",
   "execution_count": 36,
   "id": "e454f36a",
   "metadata": {},
   "outputs": [],
   "source": [
    "def longestCommonPrefix(strs: List[str]) -> str:\n",
    "    res = ''\n",
    "    \n",
    "    for i in range(len(strs[0])):\n",
    "        for s in strs:\n",
    "            print(i, s, res)\n",
    "            if i == len(s) or s[i] != strs[0][i]:\n",
    "                return res\n",
    "        res += strs[0][i]\n",
    "    return res\n",
    "    "
   ]
  },
  {
   "cell_type": "code",
   "execution_count": 37,
   "id": "9ff333a0",
   "metadata": {},
   "outputs": [
    {
     "name": "stdout",
     "output_type": "stream",
     "text": [
      "0 flower \n",
      "0 flow \n",
      "0 flight \n",
      "1 flower f\n",
      "1 flow f\n",
      "1 flight f\n",
      "2 flower fl\n",
      "2 flow fl\n",
      "2 flight fl\n"
     ]
    },
    {
     "data": {
      "text/plain": [
       "'fl'"
      ]
     },
     "execution_count": 37,
     "metadata": {},
     "output_type": "execute_result"
    }
   ],
   "source": [
    "longestCommonPrefix(strs = [\"flower\",\"flow\",\"flight\"])"
   ]
  },
  {
   "cell_type": "markdown",
   "id": "0e823153",
   "metadata": {},
   "source": [
    "# 1963. Minimum Number of Swaps to Make the String Balanced"
   ]
  },
  {
   "cell_type": "markdown",
   "id": "c8f5c8dd",
   "metadata": {},
   "source": [
    "Вам дается строка s с индексом 0 четной длины n. \n",
    "\n",
    "Строка состоит ровно из n / 2 открывающих скобок '[' и n / 2 закрывающих скобок ']'.\n",
    "\n",
    "Строка называется сбалансированной тогда и только тогда, когда:\n",
    "\n",
    "Это пустая строка, или\n",
    "Это может быть записано как AB, где и A, и B являются сбалансированными строками, или\n",
    "\n",
    "Это может быть записано как [C], где C - сбалансированная строка.\n",
    "\n",
    "Вы можете менять местами скобки в любых двух индексах любое количество раз.\n",
    "\n",
    "Верните минимальное количество свопов, чтобы сделать s сбалансированным."
   ]
  },
  {
   "cell_type": "code",
   "execution_count": null,
   "id": "98d64282",
   "metadata": {},
   "outputs": [],
   "source": [
    "class Solution:\n",
    "    def minSwaps(self, s: str) -> int:\n",
    "        close, closeMax = 0, 0\n",
    "        for i in s:\n",
    "\n",
    "            if i == '[':\n",
    "                close -= 1\n",
    "            else:\n",
    "                close += 1\n",
    "            closeMax = max(closeMax, close)\n",
    "        return (closeMax + 1) // 2 "
   ]
  },
  {
   "cell_type": "code",
   "execution_count": null,
   "id": "f663a6c0",
   "metadata": {},
   "outputs": [],
   "source": []
  },
  {
   "cell_type": "code",
   "execution_count": null,
   "id": "cfcff023",
   "metadata": {},
   "outputs": [],
   "source": []
  }
 ],
 "metadata": {
  "kernelspec": {
   "display_name": "Python 3 (ipykernel)",
   "language": "python",
   "name": "python3"
  },
  "language_info": {
   "codemirror_mode": {
    "name": "ipython",
    "version": 3
   },
   "file_extension": ".py",
   "mimetype": "text/x-python",
   "name": "python",
   "nbconvert_exporter": "python",
   "pygments_lexer": "ipython3",
   "version": "3.9.7"
  }
 },
 "nbformat": 4,
 "nbformat_minor": 5
}
