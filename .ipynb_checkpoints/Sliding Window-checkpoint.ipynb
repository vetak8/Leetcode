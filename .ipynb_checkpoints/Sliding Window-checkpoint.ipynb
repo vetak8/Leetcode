{
 "cells": [
  {
   "cell_type": "markdown",
   "id": "042778c0",
   "metadata": {},
   "source": [
    "# 438. Find All Anagrams in a String"
   ]
  },
  {
   "cell_type": "markdown",
   "id": "8d782e76",
   "metadata": {},
   "source": [
    "Имея две строки s и p, вернуть массив всех начальных индексов анаграмм p в s.\n",
    "\n",
    "Вы можете вернуть ответ в любом порядке.\n",
    "\n",
    "Анаграмма — это слово или фраза, образованная путем перестановки букв другого слова или фразы,\n",
    "\n",
    "обычно с использованием всех исходных букв ровно один раз."
   ]
  },
  {
   "cell_type": "code",
   "execution_count": 54,
   "id": "60c6b024",
   "metadata": {},
   "outputs": [],
   "source": [
    "from typing import List\n",
    "from collections import Counter"
   ]
  },
  {
   "cell_type": "code",
   "execution_count": 57,
   "id": "6c7d43b0",
   "metadata": {},
   "outputs": [],
   "source": [
    "def findAnagrams(s: str, p: str) -> List[int]:\n",
    "    res = []\n",
    "    c_p = Counter(p)\n",
    "    for i in range(0, len(s) - len(p) + 1):\n",
    "        word = s[i:i+len(p)]\n",
    "        c_word = Counter(word)\n",
    "        if c_p == c_word:\n",
    "            res.append(i)\n",
    "    return res\n",
    "        "
   ]
  },
  {
   "cell_type": "code",
   "execution_count": 58,
   "id": "2e00ca0f",
   "metadata": {},
   "outputs": [
    {
     "data": {
      "text/plain": [
       "[0, 6]"
      ]
     },
     "execution_count": 58,
     "metadata": {},
     "output_type": "execute_result"
    }
   ],
   "source": [
    "s = \"cbaebabacd\"\n",
    "p = \"abc\"\n",
    "findAnagrams(s, p)"
   ]
  },
  {
   "cell_type": "code",
   "execution_count": 59,
   "id": "faf723d5",
   "metadata": {},
   "outputs": [
    {
     "data": {
      "text/plain": [
       "[0, 1, 2]"
      ]
     },
     "execution_count": 59,
     "metadata": {},
     "output_type": "execute_result"
    }
   ],
   "source": [
    "s = \"abab\"\n",
    "p = \"ab\"\n",
    "findAnagrams(s, p)"
   ]
  },
  {
   "cell_type": "code",
   "execution_count": 61,
   "id": "6c8ed23c",
   "metadata": {},
   "outputs": [
    {
     "data": {
      "text/plain": [
       "[0, 6]"
      ]
     },
     "execution_count": 61,
     "metadata": {},
     "output_type": "execute_result"
    }
   ],
   "source": [
    "s = \"cbaebabacd\"\n",
    "p = \"abc\"\n",
    "findAnagrams(s, p)"
   ]
  },
  {
   "cell_type": "markdown",
   "id": "a12eea63",
   "metadata": {},
   "source": [
    "# 713. Subarray Product Less Than K"
   ]
  },
  {
   "cell_type": "markdown",
   "id": "5da07bf0",
   "metadata": {},
   "source": [
    "Учитывая массив целых чисел nums и целое число k, вернуть количество смежных подмассивов,\n",
    "\n",
    "где произведение всех элементов в подмассиве строго меньше, чем k."
   ]
  },
  {
   "cell_type": "code",
   "execution_count": 62,
   "id": "969cf592",
   "metadata": {},
   "outputs": [],
   "source": [
    "from functools import reduce"
   ]
  },
  {
   "cell_type": "code",
   "execution_count": 116,
   "id": "75c91dd0",
   "metadata": {},
   "outputs": [],
   "source": [
    "def numSubarrayProductLessThanK(nums: List[int], k: int) -> int:\n",
    "    \n",
    "    if k <= 1:\n",
    "        return 0\n",
    "    \n",
    "    l = r = 0\n",
    "    prod = 1\n",
    "    count = 0\n",
    "    \n",
    "    while r < len(nums):\n",
    "        prod *= nums[r]\n",
    "        while prod >= k:\n",
    "            prod /= nums[l]\n",
    "            l +=1\n",
    "        count += r - l + 1\n",
    "        r += 1\n",
    "    return count\n",
    "            "
   ]
  },
  {
   "cell_type": "code",
   "execution_count": 117,
   "id": "fbddc691",
   "metadata": {},
   "outputs": [
    {
     "data": {
      "text/plain": [
       "8"
      ]
     },
     "execution_count": 117,
     "metadata": {},
     "output_type": "execute_result"
    }
   ],
   "source": [
    "nums = [10,5,2,6]\n",
    "k = 100\n",
    "numSubarrayProductLessThanK(nums, k)"
   ]
  },
  {
   "cell_type": "code",
   "execution_count": 118,
   "id": "622977d4",
   "metadata": {},
   "outputs": [
    {
     "data": {
      "text/plain": [
       "0"
      ]
     },
     "execution_count": 118,
     "metadata": {},
     "output_type": "execute_result"
    }
   ],
   "source": [
    "nums = [10,5,2,6]\n",
    "k = 0\n",
    "numSubarrayProductLessThanK(nums, k)"
   ]
  },
  {
   "cell_type": "code",
   "execution_count": 119,
   "id": "7fdfff7b",
   "metadata": {},
   "outputs": [
    {
     "data": {
      "text/plain": [
       "6"
      ]
     },
     "execution_count": 119,
     "metadata": {},
     "output_type": "execute_result"
    }
   ],
   "source": [
    "nums = [1,1,1]\n",
    "k = 2\n",
    "numSubarrayProductLessThanK(nums, k)"
   ]
  },
  {
   "cell_type": "markdown",
   "id": "3fa95b04",
   "metadata": {},
   "source": [
    "# 209. Minimum Size Subarray Sum"
   ]
  },
  {
   "cell_type": "markdown",
   "id": "bd1281b3",
   "metadata": {},
   "source": [
    "Учитывая массив положительных целых чисел nums и цель положительного целого числа,\n",
    "\n",
    "вернуть минимальную длину подмассива сумма элементов которых больше или равна целевому значению. \n",
    "\n",
    "Если такого подмассива нет, вместо этого верните 0."
   ]
  },
  {
   "cell_type": "code",
   "execution_count": 135,
   "id": "e2977d27",
   "metadata": {},
   "outputs": [],
   "source": [
    "def minSubArrayLen(target: int, nums: List[int]) -> int:\n",
    "    n = len(nums)\n",
    "    l = r = 0\n",
    "    cur_sum = 0\n",
    "    min_len = float('inf')\n",
    "    \n",
    "    while r < n:\n",
    "        cur_sum += nums[r]\n",
    "        \n",
    "        while cur_sum >= target:\n",
    "            min_len = min(min_len, r - l + 1)\n",
    "            cur_sum -= nums[l]\n",
    "            l += 1\n",
    "            \n",
    "        \n",
    "        \n",
    "        \n",
    "        \n",
    "        r += 1\n",
    "    return min_len if min_len != float('inf') else 0\n",
    "    "
   ]
  },
  {
   "cell_type": "code",
   "execution_count": 136,
   "id": "9caea0d4",
   "metadata": {},
   "outputs": [],
   "source": [
    "target = 7\n",
    "nums = [2,3,1,2,4,3]\n",
    "# 2"
   ]
  },
  {
   "cell_type": "code",
   "execution_count": 137,
   "id": "a1515dd5",
   "metadata": {},
   "outputs": [
    {
     "data": {
      "text/plain": [
       "2"
      ]
     },
     "execution_count": 137,
     "metadata": {},
     "output_type": "execute_result"
    }
   ],
   "source": [
    "minSubArrayLen(target, nums)"
   ]
  },
  {
   "cell_type": "markdown",
   "id": "2800b9cc",
   "metadata": {},
   "source": [
    "# 121. Best Time to Buy and Sell Stock (E)"
   ]
  },
  {
   "cell_type": "markdown",
   "id": "55c5c885",
   "metadata": {},
   "source": [
    "Вам дан массив цен, где цены[i] — цена данной акции на i-й день.\n",
    "\n",
    "\n",
    "Вы хотите максимизировать свою прибыль, выбрав один день для покупки одной акции и выбрав другой день в будущем для продажи этой акции.\n",
    "\n",
    "Верните максимальную прибыль, которую вы можете получить от этой сделки. \n",
    "\n",
    "Если вы не можете получить никакой прибыли, верните 0."
   ]
  },
  {
   "cell_type": "code",
   "execution_count": 160,
   "id": "9c977fca",
   "metadata": {},
   "outputs": [],
   "source": [
    "def maxProfit(prices: List[int]) -> int:\n",
    "    \n",
    "#     if len(prices) <= 1:\n",
    "#         return 0\n",
    "    \n",
    "    l, r = 0, 1\n",
    "    res = 0\n",
    "    \n",
    "    while r < len(prices):\n",
    "        \n",
    "        if prices[r] < prices[l]:\n",
    "            l = r\n",
    "        res = max(res, prices[r] - prices[l])\n",
    "        \n",
    "        r += 1\n",
    "    return res\n",
    "        "
   ]
  },
  {
   "cell_type": "code",
   "execution_count": 161,
   "id": "22624630",
   "metadata": {},
   "outputs": [
    {
     "data": {
      "text/plain": [
       "5"
      ]
     },
     "execution_count": 161,
     "metadata": {},
     "output_type": "execute_result"
    }
   ],
   "source": [
    "prices = [7,1,5,3,6,4]\n",
    "maxProfit(prices)"
   ]
  },
  {
   "cell_type": "code",
   "execution_count": 162,
   "id": "00aa0c6b",
   "metadata": {},
   "outputs": [
    {
     "data": {
      "text/plain": [
       "5"
      ]
     },
     "execution_count": 162,
     "metadata": {},
     "output_type": "execute_result"
    }
   ],
   "source": [
    "prices = [7,1,5,3,6,4]\n",
    "maxProfit(prices)"
   ]
  },
  {
   "cell_type": "code",
   "execution_count": 164,
   "id": "65268187",
   "metadata": {},
   "outputs": [
    {
     "data": {
      "text/plain": [
       "3"
      ]
     },
     "execution_count": 164,
     "metadata": {},
     "output_type": "execute_result"
    }
   ],
   "source": [
    "prices = [1, 4, 2]\n",
    "maxProfit(prices)"
   ]
  },
  {
   "cell_type": "markdown",
   "id": "24529d0e",
   "metadata": {},
   "source": [
    "# 122. Best Time to Buy and Sell Stock II (M)"
   ]
  },
  {
   "cell_type": "markdown",
   "id": "8fed7bb2",
   "metadata": {},
   "source": [
    "Вам дан целочисленный массив цен, где цены[i] — цена данной акции на i-й день.\n",
    "\n",
    "Каждый день вы можете решить купить и/или продать акции. \n",
    "\n",
    "В любой момент времени вы можете владеть не более чем одной акцией. \n",
    "\n",
    "Однако вы можете купить его и тут же продать в тот же день.\n",
    "\n",
    "Найдите и верните максимальную прибыль, которую вы можете получить."
   ]
  },
  {
   "cell_type": "code",
   "execution_count": 167,
   "id": "94561802",
   "metadata": {},
   "outputs": [],
   "source": [
    "def maxProfit(prices: List[int]) -> int:\n",
    "    if len(prices) <= 1:\n",
    "        return 0\n",
    "    \n",
    "    l, r = 0, 1\n",
    "    res = 0\n",
    "    \n",
    "    while r < len(prices):\n",
    "        if prices[r] > prices[l]:\n",
    "            res += prices[r] - prices[l]\n",
    "            \n",
    "        l += 1\n",
    "        r += 1\n",
    "    return res"
   ]
  },
  {
   "cell_type": "code",
   "execution_count": 168,
   "id": "7bb4cc35",
   "metadata": {},
   "outputs": [
    {
     "data": {
      "text/plain": [
       "7"
      ]
     },
     "execution_count": 168,
     "metadata": {},
     "output_type": "execute_result"
    }
   ],
   "source": [
    "prices = [7,1,5,3,6,4]\n",
    "#7\n",
    "maxProfit(prices)"
   ]
  },
  {
   "cell_type": "code",
   "execution_count": 169,
   "id": "bfd6b27f",
   "metadata": {},
   "outputs": [
    {
     "data": {
      "text/plain": [
       "4"
      ]
     },
     "execution_count": 169,
     "metadata": {},
     "output_type": "execute_result"
    }
   ],
   "source": [
    "prices = [1, 2, 3, 4, 5]\n",
    "#4\n",
    "maxProfit(prices)"
   ]
  },
  {
   "cell_type": "markdown",
   "id": "e42c5048",
   "metadata": {},
   "source": [
    "# 123. Best Time to Buy and Sell Stock III (H)"
   ]
  },
  {
   "cell_type": "markdown",
   "id": "0451c15e",
   "metadata": {},
   "source": [
    "Вам дан массив цен, где цены[i] — цена данной акции на i-й день.\n",
    "\n",
    "Найдите максимальную прибыль, которую вы можете получить.\n",
    "\n",
    "Вы можете совершить не более двух транзакций.\n",
    "\n",
    "Примечание. Вы не можете совершать несколько транзакций одновременно\n",
    "\n",
    "(т. е. вы должны продать акции, прежде чем покупать их снова)."
   ]
  },
  {
   "cell_type": "code",
   "execution_count": 170,
   "id": "01ff7162",
   "metadata": {},
   "outputs": [],
   "source": [
    "def maxProfit(prices: List[int]) -> int:\n",
    "    if len(prices) <= 1:\n",
    "        return 0\n",
    "    buy1 = float('inf')\n",
    "    sell1 = 0\n",
    "    buy2 = float('inf')\n",
    "    sell2 = 0\n",
    "    n = len(prices)\n",
    "    \n",
    "    for i in range(n):\n",
    "        buy1 = min(buy1, prices[i])\n",
    "        sell1 = max(sell1, prices[i] - buy1)\n",
    "        \n",
    "        buy2 = min(buy2, prices[i] - sell1)\n",
    "        sell2 = max(sell2, prices[i] - buy2)\n",
    "        \n",
    "    return sell2"
   ]
  },
  {
   "cell_type": "code",
   "execution_count": 172,
   "id": "266e5668",
   "metadata": {},
   "outputs": [
    {
     "data": {
      "text/plain": [
       "6"
      ]
     },
     "execution_count": 172,
     "metadata": {},
     "output_type": "execute_result"
    }
   ],
   "source": [
    "prices = [3,3,5,0,0,3,1,4]\n",
    "#6\n",
    "maxProfit(prices)"
   ]
  },
  {
   "cell_type": "markdown",
   "id": "9d3d6115",
   "metadata": {},
   "source": [
    "# 3. Longest Substring Without Repeating Characters"
   ]
  },
  {
   "cell_type": "markdown",
   "id": "4b39f28f",
   "metadata": {},
   "source": [
    "Учитывая строку s, найдите длину самой длинной подстроки\n",
    "без повторяющихся символов."
   ]
  },
  {
   "cell_type": "code",
   "execution_count": 25,
   "id": "c3828047",
   "metadata": {},
   "outputs": [],
   "source": [
    "def lengthOfLongestSubstring(s: str) -> int:\n",
    "    \n",
    "    charSet = set()\n",
    "    l = 0\n",
    "    res = 0\n",
    "    for r in range(len(s)):        \n",
    "        while s[r] in charSet:\n",
    "            charSet.remove(s[l])\n",
    "            l += 1\n",
    "        charSet.add(s[r])\n",
    "        res = max(res, r - l + 1)\n",
    "    return res"
   ]
  },
  {
   "cell_type": "code",
   "execution_count": 26,
   "id": "cbb2193b",
   "metadata": {},
   "outputs": [],
   "source": [
    "# ['p', 'w', 'w', 'k', 'e', 'w']\n",
    "# l = 0\n",
    "# r = 0, 1\n",
    "# z = {p, }"
   ]
  },
  {
   "cell_type": "code",
   "execution_count": 27,
   "id": "11e273c8",
   "metadata": {},
   "outputs": [
    {
     "data": {
      "text/plain": [
       "3"
      ]
     },
     "execution_count": 27,
     "metadata": {},
     "output_type": "execute_result"
    }
   ],
   "source": [
    "s = \"abcabcbb\"\n",
    "lengthOfLongestSubstring(s)"
   ]
  },
  {
   "cell_type": "markdown",
   "id": "297c778d",
   "metadata": {},
   "source": [
    "# 4. Median of Two Sorted Arrays (H)"
   ]
  },
  {
   "cell_type": "markdown",
   "id": "6cff69d2",
   "metadata": {},
   "source": [
    "Учитывая два отсортированных массива nums1 и nums2 размера m и n соответственно,\n",
    "\n",
    "вернуть медиану двух отсортированных массивов.\n",
    "\n",
    "Общая сложность времени выполнения должна быть O(log (m+n))."
   ]
  },
  {
   "cell_type": "code",
   "execution_count": 28,
   "id": "475d57cd",
   "metadata": {},
   "outputs": [],
   "source": [
    "from typing import List"
   ]
  },
  {
   "cell_type": "code",
   "execution_count": 53,
   "id": "1b62a7c1",
   "metadata": {},
   "outputs": [],
   "source": [
    "def findMedianSortedArrays(nums1: List[int], nums2: List[int]) -> float:\n",
    "    \n",
    "    arr = merge(nums1, nums2)\n",
    "    N = len(arr)\n",
    "    \n",
    "    res = 0\n",
    "    if N % 2 == 0:\n",
    "        i = (N-1) // 2\n",
    "        res = (arr[i] + arr[i+1]) / 2\n",
    "    else:\n",
    "        res = arr[N // 2]\n",
    "    return res\n",
    "        \n",
    "        \n",
    "        \n",
    "\n",
    "def merge(a, b):\n",
    "    c = []\n",
    "    N = len(a)\n",
    "    M = len(b)\n",
    "    i = j = 0\n",
    "    \n",
    "    while i < N and j < M:\n",
    "        if a[i] <= b[j]:\n",
    "            c.append(a[i])\n",
    "            i += 1\n",
    "            \n",
    "        elif b[j] <= a[i]:\n",
    "            c.append(b[j])\n",
    "            j += 1 \n",
    "    c += a[i:] + b[j:]\n",
    "    return c"
   ]
  },
  {
   "cell_type": "code",
   "execution_count": 54,
   "id": "3ef68f5d",
   "metadata": {},
   "outputs": [
    {
     "data": {
      "text/plain": [
       "[1, 2, 2, 3]"
      ]
     },
     "execution_count": 54,
     "metadata": {},
     "output_type": "execute_result"
    }
   ],
   "source": [
    "merge([1,3], [2,2])"
   ]
  },
  {
   "cell_type": "code",
   "execution_count": 57,
   "id": "8ec348f2",
   "metadata": {},
   "outputs": [
    {
     "data": {
      "text/plain": [
       "2.5"
      ]
     },
     "execution_count": 57,
     "metadata": {},
     "output_type": "execute_result"
    }
   ],
   "source": [
    "findMedianSortedArrays([1,2], [3, 4])"
   ]
  },
  {
   "cell_type": "markdown",
   "id": "9a6c76d6",
   "metadata": {},
   "source": [
    "# 424. Longest Repeating Character Replacement"
   ]
  },
  {
   "cell_type": "markdown",
   "id": "a0a50614",
   "metadata": {},
   "source": [
    "Вам дана строка s и целое число k. \n",
    "\n",
    "Вы можете выбрать любой символ строки и заменить его на любой другой заглавный английский символ. \n",
    "\n",
    "Вы можете выполнить эту операцию не более k раз.\n",
    "\n",
    "Верните длину самой длинной подстроки, содержащей ту же букву, которую вы можете получить после выполнения вышеуказанных операций."
   ]
  },
  {
   "cell_type": "code",
   "execution_count": 7,
   "id": "af643031",
   "metadata": {},
   "outputs": [],
   "source": [
    "from collections import defaultdict"
   ]
  },
  {
   "cell_type": "code",
   "execution_count": 34,
   "id": "edb00700",
   "metadata": {},
   "outputs": [],
   "source": [
    "def characterReplacement(s: str, k: int) -> int:\n",
    "    count = {}\n",
    "    l = 0\n",
    "    maxf = 0\n",
    "    res = 0\n",
    "    for r in range(len(s)):\n",
    "        count[s[r]] = 1 + count.get(s[r], 0)\n",
    "        maxf = max(maxf, count[s[r]])\n",
    "        \n",
    "        if (r - l + 1) - maxf > k:\n",
    "            \n",
    "            count[s[l]] -= 1\n",
    "            l +=1\n",
    "        res = max(res, r - l + 1)\n",
    "    return res\n",
    "        "
   ]
  },
  {
   "cell_type": "code",
   "execution_count": 35,
   "id": "cdf32b6d",
   "metadata": {},
   "outputs": [
    {
     "data": {
      "text/plain": [
       "21"
      ]
     },
     "execution_count": 35,
     "metadata": {},
     "output_type": "execute_result"
    }
   ],
   "source": [
    "s = \"HHOOQDQQAAJAHJDBNAKSNDASSWGWWWWSSA\"\n",
    "k = 16\n",
    "characterReplacement(s, k)"
   ]
  },
  {
   "cell_type": "markdown",
   "id": "8f9a2d1b",
   "metadata": {},
   "source": [
    "# 567. Permutation in String"
   ]
  },
  {
   "cell_type": "markdown",
   "id": "78cb43c4",
   "metadata": {},
   "source": [
    "Имея две строки s1 и s2, вернуть true, если s2 содержит перестановку s1, или false в противном случае.\n",
    "\n",
    "Другими словами, вернуть true, если одна из перестановок s1 является подстрокой s2."
   ]
  },
  {
   "cell_type": "code",
   "execution_count": 4,
   "id": "ca501ecb",
   "metadata": {},
   "outputs": [],
   "source": [
    "from collections import Counter"
   ]
  },
  {
   "cell_type": "code",
   "execution_count": 5,
   "id": "1edc0191",
   "metadata": {},
   "outputs": [],
   "source": [
    "def checkInclusion(s1: str, s2: str) -> bool:\n",
    "    n = len(s1) \n",
    "    c1 = Counter(s1)\n",
    "    for r in range(n-1, len(s2)):\n",
    "        if s2[r] in s1:\n",
    "            if c1 == Counter(s2[r-n+1:r+1]):\n",
    "                \n",
    "                return True\n",
    "    return False\n",
    "            \n",
    "            \n",
    "        \n",
    "        \n",
    "        \n",
    "        "
   ]
  },
  {
   "cell_type": "code",
   "execution_count": 6,
   "id": "fdf00437",
   "metadata": {},
   "outputs": [
    {
     "data": {
      "text/plain": [
       "False"
      ]
     },
     "execution_count": 6,
     "metadata": {},
     "output_type": "execute_result"
    }
   ],
   "source": [
    "s1 = \"hello\"\n",
    "s2 = \"ooolleoooleh\"\n",
    "checkInclusion(s1, s2)"
   ]
  },
  {
   "cell_type": "code",
   "execution_count": 7,
   "id": "16cfe3e5",
   "metadata": {},
   "outputs": [
    {
     "data": {
      "text/plain": [
       "[0, 0, 0, 0, 0, 0, 0, 0, 0, 0, 0, 0, 0, 0, 0, 0, 0, 0, 0, 0, 0, 0, 0, 0, 0, 0]"
      ]
     },
     "execution_count": 7,
     "metadata": {},
     "output_type": "execute_result"
    }
   ],
   "source": [
    "[0] * 26"
   ]
  },
  {
   "cell_type": "code",
   "execution_count": 9,
   "id": "1b04c165",
   "metadata": {},
   "outputs": [
    {
     "data": {
      "text/plain": [
       "25"
      ]
     },
     "execution_count": 9,
     "metadata": {},
     "output_type": "execute_result"
    }
   ],
   "source": [
    "ord('z') - ord('a')"
   ]
  },
  {
   "cell_type": "code",
   "execution_count": null,
   "id": "026bfbbe",
   "metadata": {},
   "outputs": [],
   "source": []
  }
 ],
 "metadata": {
  "kernelspec": {
   "display_name": "Python 3 (ipykernel)",
   "language": "python",
   "name": "python3"
  },
  "language_info": {
   "codemirror_mode": {
    "name": "ipython",
    "version": 3
   },
   "file_extension": ".py",
   "mimetype": "text/x-python",
   "name": "python",
   "nbconvert_exporter": "python",
   "pygments_lexer": "ipython3",
   "version": "3.9.7"
  }
 },
 "nbformat": 4,
 "nbformat_minor": 5
}
