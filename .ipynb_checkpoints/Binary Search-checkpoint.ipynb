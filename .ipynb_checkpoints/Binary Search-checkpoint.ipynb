{
 "cells": [
  {
   "cell_type": "markdown",
   "id": "4ad00830",
   "metadata": {},
   "source": [
    "# 704. Binary Search"
   ]
  },
  {
   "cell_type": "markdown",
   "id": "5ccb8ede",
   "metadata": {},
   "source": [
    "Дан массив целых чисел nums, отсортированный в порядке возрастания, и целочисленная цель, напишите функцию для поиска цели в nums. Если цель существует, верните ее индекс. В противном случае вернуть -1.\n",
    "\n",
    "Вы должны написать алгоритм со сложностью выполнения O(log n)."
   ]
  },
  {
   "cell_type": "code",
   "execution_count": 17,
   "id": "ba076b7d",
   "metadata": {},
   "outputs": [],
   "source": [
    "from typing import List\n",
    "\n",
    "def search(nums: List[int], target: int) -> int:\n",
    "    for i in range(len(nums)):\n",
    "        if nums[i] == target:\n",
    "            return i\n",
    "    return -1"
   ]
  },
  {
   "cell_type": "code",
   "execution_count": 18,
   "id": "7d068ea1",
   "metadata": {
    "scrolled": true
   },
   "outputs": [
    {
     "data": {
      "text/plain": [
       "2"
      ]
     },
     "execution_count": 18,
     "metadata": {},
     "output_type": "execute_result"
    }
   ],
   "source": [
    "search([-1,2,4,5,6], 4)"
   ]
  },
  {
   "cell_type": "markdown",
   "id": "0b663547",
   "metadata": {},
   "source": [
    "# 278. First Bad Version"
   ]
  },
  {
   "cell_type": "markdown",
   "id": "1d7a7aa6",
   "metadata": {},
   "source": [
    "Вы менеджер по продукту и в настоящее время возглавляете команду по разработке нового продукта. К сожалению, последняя версия вашего продукта не прошла проверку качества. Поскольку каждая версия разрабатывается на основе предыдущей версии, все версии после плохой версии тоже плохие.\n",
    "\n",
    "Предположим, у вас есть n версий [1, 2, ..., n] и вы хотите найти первую плохую версию, из-за которой все последующие будут плохими.\n",
    "\n",
    "Вам предоставляется bool API isBadVersion (версия), который возвращает, является ли версия плохой. Реализуйте функцию для поиска первой плохой версии. Вы должны свести к минимуму количество обращений к API."
   ]
  },
  {
   "cell_type": "code",
   "execution_count": 19,
   "id": "144204e2",
   "metadata": {},
   "outputs": [],
   "source": [
    "def firstBadVersion(n):\n",
    "    # Set the lower bound to 1 and the upper bound to n\n",
    "    lower = 1\n",
    "    upper = n\n",
    "\n",
    "    # Loop until the lower bound is greater than the upper bound\n",
    "    while lower <= upper:\n",
    "        # Calculate the midpoint\n",
    "        mid = (lower + upper) // 2\n",
    "\n",
    "        # Call the API with the midpoint as the argument\n",
    "        if isBadVersion(mid):\n",
    "            # Set the upper bound to the midpoint - 1\n",
    "            upper = mid - 1\n",
    "        else:\n",
    "            # Set the lower bound to the midpoint + 1\n",
    "            lower = mid + 1\n",
    "\n",
    "    # Return the upper bound (the first bad version)\n",
    "    return upper"
   ]
  },
  {
   "cell_type": "markdown",
   "id": "6f16b2fa",
   "metadata": {},
   "source": [
    "# 35. Search Insert Position"
   ]
  },
  {
   "cell_type": "markdown",
   "id": "85360abc",
   "metadata": {},
   "source": [
    "Учитывая отсортированный массив различных целых чисел и целевое значение, вернуть индекс, если цель найдена.\n",
    "\n",
    "Если нет, верните индекс туда, где он был бы, если бы он был вставлен по порядку.\n",
    "\n",
    "Вы должны написать алгоритм со сложностью выполнения O(log n)."
   ]
  },
  {
   "cell_type": "code",
   "execution_count": 25,
   "id": "7b78f7d1",
   "metadata": {},
   "outputs": [],
   "source": [
    "def searchInsert(nums, target):\n",
    "    l, r = 0, len(nums) - 1\n",
    "    \n",
    "    while l <= r:\n",
    "        mid = (l + r) // 2\n",
    "        \n",
    "        if nums[mid] == target:\n",
    "            return mid\n",
    "        elif nums[mid] < target:\n",
    "            l = mid + 1\n",
    "        else:\n",
    "            r = mid - 1\n",
    "    return l"
   ]
  },
  {
   "cell_type": "code",
   "execution_count": 26,
   "id": "3bf7445a",
   "metadata": {},
   "outputs": [
    {
     "data": {
      "text/plain": [
       "2"
      ]
     },
     "execution_count": 26,
     "metadata": {},
     "output_type": "execute_result"
    }
   ],
   "source": [
    "searchInsert([1, 3, 5, 6], 5)"
   ]
  },
  {
   "cell_type": "code",
   "execution_count": 27,
   "id": "9b2674b5",
   "metadata": {},
   "outputs": [
    {
     "data": {
      "text/plain": [
       "4"
      ]
     },
     "execution_count": 27,
     "metadata": {},
     "output_type": "execute_result"
    }
   ],
   "source": [
    "searchInsert([1,3,5,6], 7)"
   ]
  },
  {
   "cell_type": "markdown",
   "id": "5406f78d",
   "metadata": {},
   "source": [
    "# 34. Find First and Last Position of Element in Sorted Array"
   ]
  },
  {
   "cell_type": "markdown",
   "id": "76d410ac",
   "metadata": {},
   "source": [
    "Учитывая массив целых чисел, отсортированных в неубывающем порядке, \n",
    "\n",
    "найдите начальную и конечную позицию заданного целевого значения.\n",
    "\n",
    "Если цель не найдена в массиве, вернуть [-1, -1].\n",
    "\n",
    "Вы должны написать алгоритм со сложностью выполнения O(log n)."
   ]
  },
  {
   "cell_type": "code",
   "execution_count": 83,
   "id": "02476bc3",
   "metadata": {},
   "outputs": [],
   "source": []
  },
  {
   "cell_type": "code",
   "execution_count": 16,
   "id": "eba060e1",
   "metadata": {},
   "outputs": [],
   "source": [
    "def searchRange(nums, target):\n",
    "    left = binSearch(nums, target, True)\n",
    "    right = binSearch(nums, target, False)\n",
    "    return [left, right]\n",
    "\n",
    "def binSearch (nums, target, leftBias):\n",
    "    l, r = 0, len(nums) - 1\n",
    "    i = -1\n",
    "    while l <= r:\n",
    "        m = (l + r) // 2\n",
    "            \n",
    "        if target > nums[m]:\n",
    "            l = m + 1\n",
    "        elif target < nums[m]:\n",
    "            r = m - 1\n",
    "        else:\n",
    "            i = m\n",
    "            if leftBias:\n",
    "                r = m - 1\n",
    "            else:\n",
    "                l = m + 1\n",
    "    return i"
   ]
  },
  {
   "cell_type": "code",
   "execution_count": 17,
   "id": "ab8135ce",
   "metadata": {},
   "outputs": [],
   "source": [
    "def test_34():\n",
    "    assert(searchRange([5, 7, 7, 8, 8, 10], 8)) == [3, 4]\n",
    "    assert(searchRange([5, 7, 7, 8, 8, 10], 6)) == [-1, -1]\n",
    "    assert(searchRange([], 0)) == [-1, -1]\n",
    "    assert(searchRange([1, 2, 3], 2)) == [1, 1]\n",
    "    try:\n",
    "        assert(searchRange([2, 2], 2)) == [0, 1]\n",
    "    except:\n",
    "        raise ValueError(f'Надо получить [0, 1], a получилось {searchRange([2, 2], 2)}')"
   ]
  },
  {
   "cell_type": "code",
   "execution_count": 18,
   "id": "09f07fde",
   "metadata": {},
   "outputs": [],
   "source": [
    "test_34()"
   ]
  },
  {
   "cell_type": "code",
   "execution_count": 19,
   "id": "b3650b38",
   "metadata": {},
   "outputs": [
    {
     "ename": "TypeError",
     "evalue": "'>' not supported between instances of 'int' and 'list'",
     "output_type": "error",
     "traceback": [
      "\u001b[1;31m---------------------------------------------------------------------------\u001b[0m",
      "\u001b[1;31mTypeError\u001b[0m                                 Traceback (most recent call last)",
      "\u001b[1;32m~\\AppData\\Local\\Temp/ipykernel_16184/3828870007.py\u001b[0m in \u001b[0;36m<module>\u001b[1;34m\u001b[0m\n\u001b[1;32m----> 1\u001b[1;33m \u001b[0msearchRange\u001b[0m\u001b[1;33m(\u001b[0m\u001b[1;33m[\u001b[0m\u001b[1;33m[\u001b[0m\u001b[1;36m2\u001b[0m\u001b[1;33m,\u001b[0m\u001b[1;36m2\u001b[0m\u001b[1;33m]\u001b[0m\u001b[1;33m]\u001b[0m\u001b[1;33m,\u001b[0m \u001b[1;36m2\u001b[0m\u001b[1;33m)\u001b[0m\u001b[1;33m\u001b[0m\u001b[1;33m\u001b[0m\u001b[0m\n\u001b[0m",
      "\u001b[1;32m~\\AppData\\Local\\Temp/ipykernel_16184/311626454.py\u001b[0m in \u001b[0;36msearchRange\u001b[1;34m(nums, target)\u001b[0m\n\u001b[0;32m      1\u001b[0m \u001b[1;32mdef\u001b[0m \u001b[0msearchRange\u001b[0m\u001b[1;33m(\u001b[0m\u001b[0mnums\u001b[0m\u001b[1;33m,\u001b[0m \u001b[0mtarget\u001b[0m\u001b[1;33m)\u001b[0m\u001b[1;33m:\u001b[0m\u001b[1;33m\u001b[0m\u001b[1;33m\u001b[0m\u001b[0m\n\u001b[1;32m----> 2\u001b[1;33m     \u001b[0mleft\u001b[0m \u001b[1;33m=\u001b[0m \u001b[0mbinSearch\u001b[0m\u001b[1;33m(\u001b[0m\u001b[0mnums\u001b[0m\u001b[1;33m,\u001b[0m \u001b[0mtarget\u001b[0m\u001b[1;33m,\u001b[0m \u001b[1;32mTrue\u001b[0m\u001b[1;33m)\u001b[0m\u001b[1;33m\u001b[0m\u001b[1;33m\u001b[0m\u001b[0m\n\u001b[0m\u001b[0;32m      3\u001b[0m     \u001b[0mright\u001b[0m \u001b[1;33m=\u001b[0m \u001b[0mbinSearch\u001b[0m\u001b[1;33m(\u001b[0m\u001b[0mnums\u001b[0m\u001b[1;33m,\u001b[0m \u001b[0mtarget\u001b[0m\u001b[1;33m,\u001b[0m \u001b[1;32mFalse\u001b[0m\u001b[1;33m)\u001b[0m\u001b[1;33m\u001b[0m\u001b[1;33m\u001b[0m\u001b[0m\n\u001b[0;32m      4\u001b[0m     \u001b[1;32mreturn\u001b[0m \u001b[1;33m[\u001b[0m\u001b[0mleft\u001b[0m\u001b[1;33m,\u001b[0m \u001b[0mright\u001b[0m\u001b[1;33m]\u001b[0m\u001b[1;33m\u001b[0m\u001b[1;33m\u001b[0m\u001b[0m\n\u001b[0;32m      5\u001b[0m \u001b[1;33m\u001b[0m\u001b[0m\n",
      "\u001b[1;32m~\\AppData\\Local\\Temp/ipykernel_16184/311626454.py\u001b[0m in \u001b[0;36mbinSearch\u001b[1;34m(nums, target, leftBias)\u001b[0m\n\u001b[0;32m     10\u001b[0m         \u001b[0mm\u001b[0m \u001b[1;33m=\u001b[0m \u001b[1;33m(\u001b[0m\u001b[0ml\u001b[0m \u001b[1;33m+\u001b[0m \u001b[0mr\u001b[0m\u001b[1;33m)\u001b[0m \u001b[1;33m//\u001b[0m \u001b[1;36m2\u001b[0m\u001b[1;33m\u001b[0m\u001b[1;33m\u001b[0m\u001b[0m\n\u001b[0;32m     11\u001b[0m \u001b[1;33m\u001b[0m\u001b[0m\n\u001b[1;32m---> 12\u001b[1;33m         \u001b[1;32mif\u001b[0m \u001b[0mtarget\u001b[0m \u001b[1;33m>\u001b[0m \u001b[0mnums\u001b[0m\u001b[1;33m[\u001b[0m\u001b[0mm\u001b[0m\u001b[1;33m]\u001b[0m\u001b[1;33m:\u001b[0m\u001b[1;33m\u001b[0m\u001b[1;33m\u001b[0m\u001b[0m\n\u001b[0m\u001b[0;32m     13\u001b[0m             \u001b[0ml\u001b[0m \u001b[1;33m=\u001b[0m \u001b[0mm\u001b[0m \u001b[1;33m+\u001b[0m \u001b[1;36m1\u001b[0m\u001b[1;33m\u001b[0m\u001b[1;33m\u001b[0m\u001b[0m\n\u001b[0;32m     14\u001b[0m         \u001b[1;32melif\u001b[0m \u001b[0mtarget\u001b[0m \u001b[1;33m<\u001b[0m \u001b[0mnums\u001b[0m\u001b[1;33m[\u001b[0m\u001b[0mm\u001b[0m\u001b[1;33m]\u001b[0m\u001b[1;33m:\u001b[0m\u001b[1;33m\u001b[0m\u001b[1;33m\u001b[0m\u001b[0m\n",
      "\u001b[1;31mTypeError\u001b[0m: '>' not supported between instances of 'int' and 'list'"
     ]
    }
   ],
   "source": [
    "searchRange([[2,2]], 2)"
   ]
  },
  {
   "cell_type": "code",
   "execution_count": 76,
   "id": "b92b8c7e",
   "metadata": {},
   "outputs": [],
   "source": [
    "assert(searchRange([2, 3], 2)) == [0, 0]"
   ]
  },
  {
   "cell_type": "markdown",
   "id": "d51352c1",
   "metadata": {},
   "source": [
    "# 33. Search in Rotated Sorted Array"
   ]
  },
  {
   "cell_type": "markdown",
   "id": "36b9d0eb",
   "metadata": {},
   "source": [
    "Существует целочисленный массив nums, отсортированный в порядке возрастания (с различными значениями).\n",
    "\n",
    "Перед тем, как быть переданным вашей функции, nums, возможно, вращается с неизвестным опорным индексом k (1 = k nums.length), \n",
    "\n",
    "так что результирующий массив равен [nums[k], nums[k+1], ..., nums [n-1], nums[0], nums[1], ..., nums[k-1]] (с индексом 0).\n",
    "\n",
    "Например, [0,1,2,4,5,6,7] может быть повернут с поворотным индексом 3 и станет [4,5,6,7,0,1,2].\n",
    "\n",
    "Учитывая массив nums после возможного поворота и целочисленную цель, вернуть индекс цели, если он находится в nums, или -1, если он не в nums.\n",
    "\n",
    "Вы должны написать алгоритм со сложностью выполнения O(log n)."
   ]
  },
  {
   "cell_type": "code",
   "execution_count": null,
   "id": "632738d8",
   "metadata": {},
   "outputs": [],
   "source": [
    "class Solution:\n",
    "    def search(self, nums: List[int], target: int) -> int:\n",
    "        l, r = 0, len(nums) - 1\n",
    "\n",
    "        while l <= r:\n",
    "            m = (l + r) // 2\n",
    "            if nums[m] == target:\n",
    "                return m\n",
    "            if nums[l] <= nums[m]:\n",
    "                if nums[l] <= target <= nums[m]:\n",
    "                    r = m - 1\n",
    "                else:\n",
    "                    l = m +1\n",
    "                \n",
    "            else:\n",
    "                if nums[m] <= target <= r:\n",
    "                    l = m + 1\n",
    "                else:\n",
    "                    r = m -1\n",
    "        return -1\n",
    "\n"
   ]
  },
  {
   "cell_type": "markdown",
   "id": "2ad9774f",
   "metadata": {},
   "source": [
    "# 74. Search a 2D Matrix"
   ]
  },
  {
   "cell_type": "markdown",
   "id": "985235b8",
   "metadata": {},
   "source": [
    "Напишите эффективный алгоритм, который ищет целевое значение в целочисленной матрице размера m x n. \n",
    "\n",
    "Эта матрица обладает следующими свойствами:\n",
    "\n",
    "Целые числа в каждой строке сортируются слева направо.\n",
    "\n",
    "Первое целое число каждой строки больше, чем последнее целое число предыдущей строки."
   ]
  },
  {
   "cell_type": "code",
   "execution_count": 41,
   "id": "28421391",
   "metadata": {},
   "outputs": [],
   "source": [
    "def searchMatrix(matrix, target):\n",
    "    row = isrow(matrix, target)\n",
    "    \n",
    "    if not isrow(matrix, target):\n",
    "        return False\n",
    "    \n",
    "    left, right = 0, len(row) - 1\n",
    "    \n",
    "    while left <= right:\n",
    "        mid = (left + right) // 2\n",
    "        if row[mid] == target:\n",
    "            return True\n",
    "        elif row[mid] >= target:\n",
    "            right = mid - 1\n",
    "        else:\n",
    "            left = mid + 1\n",
    "    return False\n",
    "            \n",
    "    \n",
    "    \n",
    "def isrow(matrix, target):\n",
    "    up, down = 0, len(matrix) - 1\n",
    "    row = None\n",
    "    while up <= down:\n",
    "        \n",
    "        mid = (up + down) // 2\n",
    "        if matrix[mid][0] <= target <= matrix[mid][-1]:\n",
    "            row = mid\n",
    "            return row\n",
    "        elif target < matrix[mid][0]:\n",
    "            down = mid - 1\n",
    "        else:\n",
    "            if target > matrix[mid][-1]:\n",
    "                up = mid + 1\n",
    "    if row:\n",
    "        return row\n",
    "    return False"
   ]
  },
  {
   "cell_type": "code",
   "execution_count": 46,
   "id": "dfe33acf",
   "metadata": {},
   "outputs": [],
   "source": [
    "matrix = [[1,3,5,7],[10,11,16,20],[23,30,34,60]]\n",
    "target = 60"
   ]
  },
  {
   "cell_type": "code",
   "execution_count": 47,
   "id": "a3ef4ed8",
   "metadata": {},
   "outputs": [
    {
     "data": {
      "text/plain": [
       "2"
      ]
     },
     "execution_count": 47,
     "metadata": {},
     "output_type": "execute_result"
    }
   ],
   "source": [
    "isrow(matrix, target)"
   ]
  },
  {
   "cell_type": "code",
   "execution_count": null,
   "id": "29b0d53e",
   "metadata": {},
   "outputs": [],
   "source": []
  }
 ],
 "metadata": {
  "kernelspec": {
   "display_name": "Python 3 (ipykernel)",
   "language": "python",
   "name": "python3"
  },
  "language_info": {
   "codemirror_mode": {
    "name": "ipython",
    "version": 3
   },
   "file_extension": ".py",
   "mimetype": "text/x-python",
   "name": "python",
   "nbconvert_exporter": "python",
   "pygments_lexer": "ipython3",
   "version": "3.9.7"
  }
 },
 "nbformat": 4,
 "nbformat_minor": 5
}
