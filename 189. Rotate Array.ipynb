{
 "cells": [
  {
   "cell_type": "markdown",
   "id": "64c45b63",
   "metadata": {},
   "source": [
    "Дан массив, поверните массив вправо на k шагов, где k неотрицательно.\n",
    "\n",
    "Input: nums = [1,2,3,4,5,6,7], k = 3\n",
    "\n",
    "Output: [5,6,7,1,2,3,4]\n",
    "\n",
    "Explanation:\n",
    "rotate 1 steps to the right: [7,1,2,3,4,5,6]\n",
    "\n",
    "rotate 2 steps to the right: [6,7,1,2,3,4,5]\n",
    "\n",
    "rotate 3 steps to the right: [5,6,7,1,2,3,4]\n"
   ]
  },
  {
   "cell_type": "code",
   "execution_count": 9,
   "id": "b5202bd3",
   "metadata": {},
   "outputs": [],
   "source": [
    "def rotate(nums, k):\n",
    "    return nums[-k:] + nums[:-k]"
   ]
  },
  {
   "cell_type": "code",
   "execution_count": 10,
   "id": "3d70d79c",
   "metadata": {},
   "outputs": [
    {
     "data": {
      "text/plain": [
       "[5, 6, 7, 1, 2, 3, 4]"
      ]
     },
     "execution_count": 10,
     "metadata": {},
     "output_type": "execute_result"
    }
   ],
   "source": [
    "rotate([1, 2, 3, 4, 5, 6, 7], 3)"
   ]
  },
  {
   "cell_type": "code",
   "execution_count": 4,
   "id": "3318dd5a",
   "metadata": {},
   "outputs": [
    {
     "data": {
      "text/plain": [
       "[3, 99, -1, -100]"
      ]
     },
     "execution_count": 4,
     "metadata": {},
     "output_type": "execute_result"
    }
   ],
   "source": [
    "rotate([-1,-100,3,99], 2)"
   ]
  },
  {
   "cell_type": "code",
   "execution_count": 22,
   "id": "94454828",
   "metadata": {},
   "outputs": [],
   "source": [
    "def rotate(nums, k):\n",
    "    n = len(nums)\n",
    "    res = []\n",
    "    for i in range(k - n, k):\n",
    "        res.append(nums[i])\n",
    "    return res"
   ]
  },
  {
   "cell_type": "code",
   "execution_count": 23,
   "id": "c630c51b",
   "metadata": {},
   "outputs": [
    {
     "data": {
      "text/plain": [
       "[5, 6, 7, 1, 2, 3, 4]"
      ]
     },
     "execution_count": 23,
     "metadata": {},
     "output_type": "execute_result"
    }
   ],
   "source": [
    "rotate([1, 2, 3, 4, 5, 6, 7], 4)"
   ]
  },
  {
   "cell_type": "code",
   "execution_count": 27,
   "id": "d76ef5d5",
   "metadata": {},
   "outputs": [],
   "source": [
    "def rotate(nums, k):\n",
    "#     k = k % len(nums)\n",
    "    \n",
    "    # Пеервернули весь массив\n",
    "    l, r = 0, len(nums) - 1\n",
    "    while l < r:\n",
    "        nums[l], nums[r] = nums[r], nums[l]\n",
    "        l, r = l + 1, r - 1\n",
    "    \n",
    "    # Перевернем первую часть [0:k-1]\n",
    "    l, r = 0, k - 1\n",
    "    while l < r:\n",
    "        nums[l], nums[r] = nums[r], nums[l]\n",
    "        l, r = l + 1, r - 1\n",
    "    # Вторую [k:]\n",
    "    \n",
    "    l, r = k, len(nums) - 1\n",
    "    while l < r:\n",
    "        nums[l], nums[r] = nums[r], nums[l]\n",
    "        l, r = l + 1, r - 1\n",
    "    return nums\n",
    "    "
   ]
  },
  {
   "cell_type": "code",
   "execution_count": 28,
   "id": "cecc20e3",
   "metadata": {},
   "outputs": [
    {
     "data": {
      "text/plain": [
       "[5, 6, 7, 1, 2, 3, 4]"
      ]
     },
     "execution_count": 28,
     "metadata": {},
     "output_type": "execute_result"
    }
   ],
   "source": [
    "rotate([1, 2, 3, 4, 5, 6, 7], 3)"
   ]
  },
  {
   "cell_type": "code",
   "execution_count": 29,
   "id": "5a15cd07",
   "metadata": {},
   "outputs": [
    {
     "data": {
      "text/plain": [
       "[3, 99, -1, -100]"
      ]
     },
     "execution_count": 29,
     "metadata": {},
     "output_type": "execute_result"
    }
   ],
   "source": [
    "rotate([-1,-100,3,99], 2)"
   ]
  },
  {
   "cell_type": "code",
   "execution_count": null,
   "id": "67f659da",
   "metadata": {},
   "outputs": [],
   "source": []
  }
 ],
 "metadata": {
  "kernelspec": {
   "display_name": "Python 3 (ipykernel)",
   "language": "python",
   "name": "python3"
  },
  "language_info": {
   "codemirror_mode": {
    "name": "ipython",
    "version": 3
   },
   "file_extension": ".py",
   "mimetype": "text/x-python",
   "name": "python",
   "nbconvert_exporter": "python",
   "pygments_lexer": "ipython3",
   "version": "3.9.7"
  }
 },
 "nbformat": 4,
 "nbformat_minor": 5
}
