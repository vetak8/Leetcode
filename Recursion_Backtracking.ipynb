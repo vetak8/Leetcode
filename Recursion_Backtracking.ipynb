{
 "cells": [
  {
   "cell_type": "markdown",
   "id": "c54241e0",
   "metadata": {},
   "source": [
    "# 78. Subsets"
   ]
  },
  {
   "cell_type": "markdown",
   "id": "4c50fbeb",
   "metadata": {},
   "source": [
    "Учитывая целочисленный массив nums уникальных элементов, \n",
    "\n",
    "верните все возможные\n",
    "подмножества\n",
    "(набор мощности).\n",
    "\n",
    "Набор решений не должен содержать повторяющихся подмножеств. Верните решение в любом порядке."
   ]
  },
  {
   "cell_type": "code",
   "execution_count": 1,
   "id": "9405f8fc",
   "metadata": {},
   "outputs": [],
   "source": [
    "from typing import List"
   ]
  },
  {
   "cell_type": "code",
   "execution_count": 2,
   "id": "7085ae2b",
   "metadata": {},
   "outputs": [],
   "source": [
    "def subsets(nums: List[int]) -> List[List[int]]:\n",
    "    res = [[]]\n",
    "    \n",
    "    for i in nums:\n",
    "        res += [j+[i] for j in res]\n",
    "    return res"
   ]
  },
  {
   "cell_type": "code",
   "execution_count": 3,
   "id": "f60eb9c3",
   "metadata": {},
   "outputs": [
    {
     "data": {
      "text/plain": [
       "[[], [1], [2], [1, 2], [3], [1, 3], [2, 3], [1, 2, 3]]"
      ]
     },
     "execution_count": 3,
     "metadata": {},
     "output_type": "execute_result"
    }
   ],
   "source": [
    "subsets([1, 2, 3])"
   ]
  },
  {
   "cell_type": "code",
   "execution_count": 8,
   "id": "652020b6",
   "metadata": {},
   "outputs": [
    {
     "data": {
      "text/plain": [
       "[[], [1]]"
      ]
     },
     "execution_count": 8,
     "metadata": {},
     "output_type": "execute_result"
    }
   ],
   "source": [
    "subsets([1])"
   ]
  },
  {
   "cell_type": "markdown",
   "id": "da085251",
   "metadata": {},
   "source": [
    "# 90. Subsets II"
   ]
  },
  {
   "cell_type": "markdown",
   "id": "c34a22b1",
   "metadata": {},
   "source": [
    "Учитывая целочисленный массив nums, который может содержать дубликаты,\n",
    "\n",
    "верните все возможные\n",
    "подмножества\n",
    "(набор мощности).\n",
    "\n",
    "Набор решений не должен содержать повторяющихся подмножеств.\n",
    "\n",
    "Верните решение в любом порядке."
   ]
  },
  {
   "cell_type": "code",
   "execution_count": 23,
   "id": "d46cb723",
   "metadata": {},
   "outputs": [],
   "source": [
    "def subsetsWithDup(nums: List[int]) -> List[List[int]]:\n",
    "    res = [[]]\n",
    "    \n",
    "    for i in nums:\n",
    "        res += [j+[i] for j in res if j+[i] not in res]\n",
    "    return res"
   ]
  },
  {
   "cell_type": "code",
   "execution_count": 24,
   "id": "16f7cad5",
   "metadata": {},
   "outputs": [
    {
     "data": {
      "text/plain": [
       "[[], [1], [2], [1, 2], [2, 2], [1, 2, 2]]"
      ]
     },
     "execution_count": 24,
     "metadata": {},
     "output_type": "execute_result"
    }
   ],
   "source": [
    "subsetsWithDup([1,2,2])"
   ]
  },
  {
   "cell_type": "code",
   "execution_count": 36,
   "id": "a6451fb7",
   "metadata": {},
   "outputs": [],
   "source": [
    "def sum_(n):\n",
    "    res = 0\n",
    "    for i in range(n+1):\n",
    "        res += i\n",
    "    return res\n",
    "        \n"
   ]
  },
  {
   "cell_type": "code",
   "execution_count": 39,
   "id": "b1f94dc5",
   "metadata": {},
   "outputs": [],
   "source": [
    "def sum_(n):\n",
    "    if n == 0:\n",
    "        return 0\n",
    "    else:\n",
    "        return n + sum(n-1)"
   ]
  },
  {
   "cell_type": "code",
   "execution_count": 46,
   "id": "b84b5458",
   "metadata": {},
   "outputs": [],
   "source": [
    "def grid_paths(m, n):\n",
    "    if n ==  1 or m == 1:\n",
    "        return 1\n",
    "    else:\n",
    "        return grid_paths(n, m - 1) + grid_paths(n - 1, m)"
   ]
  },
  {
   "cell_type": "code",
   "execution_count": 48,
   "id": "822838d0",
   "metadata": {},
   "outputs": [
    {
     "data": {
      "text/plain": [
       "1426425"
      ]
     },
     "execution_count": 48,
     "metadata": {},
     "output_type": "execute_result"
    }
   ],
   "source": [
    "grid_paths(5, 75)"
   ]
  },
  {
   "cell_type": "markdown",
   "id": "2befb1a4",
   "metadata": {},
   "source": [
    "# 47. Permutations II"
   ]
  },
  {
   "cell_type": "markdown",
   "id": "7dc77f1b",
   "metadata": {},
   "source": [
    "Учитывая набор чисел, nums, которые могут содержать дубликаты,\n",
    "\n",
    "верните все возможные уникальные перестановки в любом порядке."
   ]
  },
  {
   "cell_type": "code",
   "execution_count": null,
   "id": "3c1acf13",
   "metadata": {},
   "outputs": [],
   "source": [
    "# Input: nums = [1,1,2]\n",
    "# Output:\n",
    "# [[1,1,2],\n",
    "#  [1,2,1],\n",
    "#  [2,1,1]]\n",
    "\n",
    "# Input: nums = [1,2,3]\n",
    "# Output: [[1,2,3],[1,3,2],[2,1,3],[2,3,1],[3,1,2],[3,2,1]]\n",
    " "
   ]
  },
  {
   "cell_type": "code",
   "execution_count": 5,
   "id": "f9dbec35",
   "metadata": {},
   "outputs": [],
   "source": [
    "from collections import Counter\n",
    "from typing import List"
   ]
  },
  {
   "cell_type": "code",
   "execution_count": 10,
   "id": "2000ce9e",
   "metadata": {},
   "outputs": [],
   "source": [
    "def permuteUnique(nums: List[int]) -> List[List[int]]:\n",
    "    res = []\n",
    "    \n",
    "    def dfs(counter, path):\n",
    "        if len(path) == len(nums):\n",
    "            res.append(path)\n",
    "        \n",
    "        for x in counter:\n",
    "            if counter[x]:\n",
    "                counter[x] -= 1\n",
    "                dfs(counter, path+[x])\n",
    "                counter[x] += 1\n",
    "    \n",
    "        \n",
    "        \n",
    "    dfs(Counter(nums), [])\n",
    "    \n",
    "    return res"
   ]
  },
  {
   "cell_type": "code",
   "execution_count": 14,
   "id": "08e06b2f",
   "metadata": {},
   "outputs": [],
   "source": [
    "def permuteUnique(nums: List[int]) -> List[List[int]]:\n",
    "    res = []\n",
    "    def backtrack(first=0):\n",
    "        if first == len(nums):\n",
    "            res.append(nums[:])\n",
    "        for i in range(first, len(nums)):\n",
    "            if i > first and nums[i] == nums[first]:\n",
    "                continue\n",
    "            if nums[i] in nums[first:i]:\n",
    "                continue\n",
    "            nums[first], nums[i] = nums[i], nums[first]\n",
    "            backtrack(first + 1)\n",
    "            nums[first], nums[i] = nums[i], nums[first]\n",
    "    backtrack()\n",
    "    return res"
   ]
  },
  {
   "cell_type": "code",
   "execution_count": 15,
   "id": "27e4236c",
   "metadata": {},
   "outputs": [
    {
     "data": {
      "text/plain": [
       "[[1, 2, 3], [1, 3, 2], [2, 1, 3], [2, 3, 1], [3, 2, 1], [3, 1, 2]]"
      ]
     },
     "execution_count": 15,
     "metadata": {},
     "output_type": "execute_result"
    }
   ],
   "source": [
    "permuteUnique([1, 2, 3])"
   ]
  },
  {
   "cell_type": "markdown",
   "id": "da67cd4c",
   "metadata": {},
   "source": [
    "# 39. Combination Sum"
   ]
  },
  {
   "cell_type": "markdown",
   "id": "5c6ee03f",
   "metadata": {},
   "source": [
    "Учитывая массив различных целых чисел-кандидатов и целевую целочисленную цель,\n",
    "\n",
    "верните список всех уникальных комбинаций кандидатов, \n",
    "\n",
    "в которых выбранные числа суммируются с целью. \n",
    "Вы можете возвращать комбинации в любом порядке.\n",
    "\n",
    "Одно и то же число может быть выбрано из кандидатов неограниченное количество раз. \n",
    "\n",
    "Две комбинации уникальны, если\n",
    "частота\n",
    "хотя бы одного из выбранных чисел отличается.\n",
    "\n",
    "Тестовые примеры генерируются таким образом, чтобы количество уникальных комбинаций, \n",
    "\n",
    "которые суммируются с целью, составляло менее 150 комбинаций для заданных входных данных."
   ]
  },
  {
   "cell_type": "code",
   "execution_count": null,
   "id": "62a4a9c0",
   "metadata": {},
   "outputs": [],
   "source": [
    "# Input: candidates = [2,3,6,7], target = 7\n",
    "# Output: [[2,2,3],[7]]\n",
    "# Explanation:\n",
    "# 2 and 3 are candidates, and 2 + 2 + 3 = 7. Note that 2 can be used multiple times.\n",
    "# 7 is a candidate, and 7 = 7.\n",
    "# These are the only two combinations."
   ]
  },
  {
   "cell_type": "code",
   "execution_count": 19,
   "id": "c72c36b4",
   "metadata": {},
   "outputs": [],
   "source": [
    "def combinationSum(candidates: List[int], target: int) -> List[List[int]]:\n",
    "    res = []\n",
    "    \n",
    "    def helper(remain, combo, start):\n",
    "        if remain == 0:\n",
    "            res.append(combo)\n",
    "            return\n",
    "        for i in range(start, len(candidates)):\n",
    "            if candidates[i] > remain:\n",
    "                continue\n",
    "            helper(remain - candidates[i], combo+[candidates[i]], i)\n",
    "            \n",
    "    \n",
    "    \n",
    "    helper(target, [], 0)\n",
    "    \n",
    "    return res"
   ]
  },
  {
   "cell_type": "code",
   "execution_count": 20,
   "id": "dd0304da",
   "metadata": {},
   "outputs": [
    {
     "data": {
      "text/plain": [
       "[[2, 2, 1], [2, 1, 1, 1], [5], [1, 1, 1, 1, 1]]"
      ]
     },
     "execution_count": 20,
     "metadata": {},
     "output_type": "execute_result"
    }
   ],
   "source": [
    "\n",
    "combinationSum([2,5,6,7, 1], 5)"
   ]
  },
  {
   "cell_type": "markdown",
   "id": "4b25a4e0",
   "metadata": {},
   "source": [
    "# 40. Combination Sum II"
   ]
  },
  {
   "cell_type": "markdown",
   "id": "e08606f4",
   "metadata": {},
   "source": [
    "Учитывая набор номеров кандидатов (candidates) и целевой номер (target),\n",
    "\n",
    "найдите все уникальные комбинации в кандидатах, где номера кандидатов суммируются с target.\n",
    "\n",
    "Каждое число в кандидатах может быть использовано только один раз в комбинации.\n",
    "\n",
    "Примечание: Набор решений не должен содержать повторяющихся комбинаций."
   ]
  },
  {
   "cell_type": "code",
   "execution_count": 16,
   "id": "bbcffaca",
   "metadata": {},
   "outputs": [],
   "source": [
    "def combinationSum2(candidates, target):\n",
    "    res = []\n",
    "    candidates.sort()\n",
    "    def helper(remain, combo, start):\n",
    "        if remain == 0:\n",
    "            res.append(combo)\n",
    "            return\n",
    "        \n",
    "        \n",
    "        for i in range(start, len(candidates)):\n",
    "            if i > start and candidates[i] == candidates[i-1]:\n",
    "                continue\n",
    "            if candidates[i] > remain:\n",
    "                continue\n",
    "            \n",
    "            helper(remain-candidates[i], combo+[candidates[i]], i+1)\n",
    "    \n",
    "    \n",
    "    \n",
    "    \n",
    "    helper(target, [], 0)\n",
    "    return res"
   ]
  },
  {
   "cell_type": "code",
   "execution_count": 17,
   "id": "158d5faf",
   "metadata": {},
   "outputs": [
    {
     "data": {
      "text/plain": [
       "[[1, 1, 6], [1, 2, 5], [1, 7], [2, 6]]"
      ]
     },
     "execution_count": 17,
     "metadata": {},
     "output_type": "execute_result"
    }
   ],
   "source": [
    "candidates = [10,1,2,7,6,1,5]\n",
    "target = 8\n",
    "combinationSum2(candidates, target)"
   ]
  },
  {
   "cell_type": "code",
   "execution_count": 18,
   "id": "8e100527",
   "metadata": {},
   "outputs": [
    {
     "data": {
      "text/plain": [
       "[[1, 2, 6], [2, 7]]"
      ]
     },
     "execution_count": 18,
     "metadata": {},
     "output_type": "execute_result"
    }
   ],
   "source": [
    "combinationSum2([2,5,6,7, 1], 9)"
   ]
  },
  {
   "cell_type": "markdown",
   "id": "4aaafd92",
   "metadata": {},
   "source": [
    " # 17. Letter Combinations of a Phone Number\n"
   ]
  },
  {
   "cell_type": "markdown",
   "id": "591ede93",
   "metadata": {},
   "source": [
    "Учитывая строку, содержащую цифры от 2-9 включительно,\n",
    "\n",
    "верните все возможные комбинации букв, которые может представлять число.\n",
    "\n",
    "Верните ответ в любом порядке.\n",
    "\n",
    "Отображение цифр в буквы (точно так же, как на кнопках телефона) приведено ниже. \n",
    "\n",
    "Обратите внимание, что 1 не сопоставляется ни с какими буквами."
   ]
  },
  {
   "cell_type": "code",
   "execution_count": 10,
   "id": "1438e409",
   "metadata": {},
   "outputs": [],
   "source": [
    "\n",
    "def letterCombinations(digits: str) -> List[str]:\n",
    "    if not digits:\n",
    "        return []\n",
    "    \n",
    "    phone = {\n",
    "    '2': ['a', 'b', 'c'],\n",
    "    '3': ['d', 'e', 'f'],\n",
    "    '4': ['g', 'h', 'i'],\n",
    "    '5': ['j', 'k', 'l'],\n",
    "    '6': ['m', 'n', 'o'],\n",
    "    '7': ['p', 'q', 'r', 's'],\n",
    "    '8': ['t', 'u', 'v'],\n",
    "    '9': ['w', 'x', 'y', 'z']\n",
    "}\n",
    "        \n",
    "    res = []\n",
    "    \n",
    "    def helper(combo, next_digits):\n",
    "        print(res)\n",
    "        if len(next_digits) == 0:\n",
    "            res.append(combo)\n",
    "        else:\n",
    "            for letter in phone[next_digits[0]]:\n",
    "                helper(combo + letter, next_digits[1:])\n",
    "        \n",
    "    \n",
    "    \n",
    "    \n",
    "    helper('', digits)\n",
    "    return res"
   ]
  },
  {
   "cell_type": "code",
   "execution_count": 11,
   "id": "0e9553ec",
   "metadata": {},
   "outputs": [
    {
     "name": "stdout",
     "output_type": "stream",
     "text": [
      "[]\n",
      "[]\n",
      "[]\n",
      "['ad']\n",
      "['ad', 'ae']\n",
      "['ad', 'ae', 'af']\n",
      "['ad', 'ae', 'af']\n",
      "['ad', 'ae', 'af', 'bd']\n",
      "['ad', 'ae', 'af', 'bd', 'be']\n",
      "['ad', 'ae', 'af', 'bd', 'be', 'bf']\n",
      "['ad', 'ae', 'af', 'bd', 'be', 'bf']\n",
      "['ad', 'ae', 'af', 'bd', 'be', 'bf', 'cd']\n",
      "['ad', 'ae', 'af', 'bd', 'be', 'bf', 'cd', 'ce']\n"
     ]
    },
    {
     "data": {
      "text/plain": [
       "['ad', 'ae', 'af', 'bd', 'be', 'bf', 'cd', 'ce', 'cf']"
      ]
     },
     "execution_count": 11,
     "metadata": {},
     "output_type": "execute_result"
    }
   ],
   "source": [
    "letterCombinations('23')"
   ]
  },
  {
   "cell_type": "markdown",
   "id": "88ec7c1f",
   "metadata": {},
   "source": [
    "# 22. Generate Parentheses"
   ]
  },
  {
   "cell_type": "markdown",
   "id": "53ab7764",
   "metadata": {},
   "source": [
    "Учитывая n пар круглых скобок, напишите функцию для генерации всех комбинаций правильно сформированных круглых скобок."
   ]
  },
  {
   "cell_type": "code",
   "execution_count": null,
   "id": "86ca4d2e",
   "metadata": {},
   "outputs": [],
   "source": [
    "def generateParenthesis(n: int) -> List[str]:\n",
    "    res = []\n",
    "    \n",
    "    def helper(s, left, right):\n",
    "        if len(s) == 2 * n:\n",
    "            res.append(s)\n",
    "            return\n",
    "        if left < n:\n",
    "            helper(s + '(', left + 1, right)\n",
    "        if right < left:\n",
    "            helper(s + ')', left, right + 1)\n",
    "        backtrack('', 0, 0)\n",
    "        return res"
   ]
  },
  {
   "cell_type": "code",
   "execution_count": 16,
   "id": "9d006f81",
   "metadata": {},
   "outputs": [],
   "source": [
    "def generateParenthesis(n: int) -> List[str]:\n",
    "    res = []\n",
    "    \n",
    "    def helper(combo, l, r):\n",
    "        if len(combo) == 2 * n:\n",
    "            res.append(combo)\n",
    "        if l < n:\n",
    "            helper(combo + '(', l + 1, r)\n",
    "        if r < l:\n",
    "            helper(combo + ')', l, r + 1)\n",
    "    helper('', 0, 0)\n",
    "    return res"
   ]
  },
  {
   "cell_type": "code",
   "execution_count": 17,
   "id": "a78beee9",
   "metadata": {},
   "outputs": [
    {
     "data": {
      "text/plain": [
       "['((()))', '(()())', '(())()', '()(())', '()()()']"
      ]
     },
     "execution_count": 17,
     "metadata": {},
     "output_type": "execute_result"
    }
   ],
   "source": [
    "generateParenthesis(3)"
   ]
  },
  {
   "cell_type": "code",
   "execution_count": null,
   "id": "ed182381",
   "metadata": {},
   "outputs": [],
   "source": []
  }
 ],
 "metadata": {
  "kernelspec": {
   "display_name": "Python 3 (ipykernel)",
   "language": "python",
   "name": "python3"
  },
  "language_info": {
   "codemirror_mode": {
    "name": "ipython",
    "version": 3
   },
   "file_extension": ".py",
   "mimetype": "text/x-python",
   "name": "python",
   "nbconvert_exporter": "python",
   "pygments_lexer": "ipython3",
   "version": "3.9.7"
  }
 },
 "nbformat": 4,
 "nbformat_minor": 5
}
