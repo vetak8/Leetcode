{
 "cells": [
  {
   "cell_type": "markdown",
   "id": "f1dbb346",
   "metadata": {},
   "source": [
    "Given a string s, find the length of the longest substring without repeating characters.\n",
    "\n",
    "Найти длину неповторяющейся последовательности символов в строке"
   ]
  },
  {
   "cell_type": "code",
   "execution_count": null,
   "id": "6491c306",
   "metadata": {},
   "outputs": [],
   "source": []
  },
  {
   "cell_type": "code",
   "execution_count": null,
   "id": "0e52fc85",
   "metadata": {},
   "outputs": [],
   "source": [
    "class Solution:\n",
    "    def lengthOfLongestSubstring(self, s: str) -> int:\n",
    "        \n",
    "        n = len(s) #длина строки\n",
    "        ans = 0 # количество неповторяющихся символов\n",
    "        d = {} # Словарь\n",
    "        j = 0 \n",
    "        for i in range(n):\n",
    "            if s[i] in d: # Если символ есть в словаре\n",
    "                j = max(d[s[i]], j)  # Выбираем что больше из значения словаря(кол-во символов) и кол-вом символов в j\n",
    "            ans = max(ans, i - j + 1) # Большее между \n",
    "            d[s[i]] = i +1 # Заполняем список ключами(символами) и значениями (количеством )\n",
    "        return ans"
   ]
  },
  {
   "cell_type": "code",
   "execution_count": 53,
   "id": "4f2fbf01",
   "metadata": {},
   "outputs": [],
   "source": [
    "def lengthOfLongestSubstring( s: str) -> int:\n",
    "    n = len(s) #длина строки\n",
    "    ans = 0 # количество неповторяющихся символов\n",
    "    d = {} # Словарь\n",
    "    j = 0 \n",
    "    for i in range(n):\n",
    "        if s[i] in d: # Если символ есть в словаре\n",
    "            j = max(d[s[i]], j)  # Выбираем что больше из значения словаря(кол-во символов) и кол-вом символов в j\n",
    "        ans = max(ans, i - j + 1) # Большее между \n",
    "        d[s[i]] = i +1 # Заполняем список ключами(символами) и значениями (количеством )\n",
    "    return ans\n",
    "        "
   ]
  },
  {
   "cell_type": "code",
   "execution_count": 56,
   "id": "0d6cf673",
   "metadata": {},
   "outputs": [
    {
     "data": {
      "text/plain": [
       "1"
      ]
     },
     "execution_count": 56,
     "metadata": {},
     "output_type": "execute_result"
    }
   ],
   "source": [
    "lengthOfLongestSubstring('dabcd')"
   ]
  },
  {
   "cell_type": "code",
   "execution_count": 57,
   "id": "5029ee74",
   "metadata": {},
   "outputs": [],
   "source": [
    "def lengthOfLongestSubstring( s: str) -> int:\n",
    "    n = len(s) #длина строки\n",
    "    ans = 0 # количество неповторяющихся символов\n",
    "    d = {} # Словарь\n",
    "    j = 0 \n",
    "    for i in range(n):\n",
    "        if s[i] in d:\n",
    "            j = max(d[s[i]], j)\n",
    "        ans = max(ans, i - j +1)    \n",
    "        d[s[i]] = i+1  # Заполняем список ключами(символами) и значениями (количеством )\n",
    "    return ans"
   ]
  },
  {
   "cell_type": "code",
   "execution_count": 58,
   "id": "e42fa17b",
   "metadata": {},
   "outputs": [
    {
     "data": {
      "text/plain": [
       "4"
      ]
     },
     "execution_count": 58,
     "metadata": {},
     "output_type": "execute_result"
    }
   ],
   "source": [
    "lengthOfLongestSubstring('abcd')"
   ]
  },
  {
   "cell_type": "code",
   "execution_count": null,
   "id": "a1020761",
   "metadata": {},
   "outputs": [],
   "source": []
  }
 ],
 "metadata": {
  "kernelspec": {
   "display_name": "Python 3",
   "language": "python",
   "name": "python3"
  },
  "language_info": {
   "codemirror_mode": {
    "name": "ipython",
    "version": 3
   },
   "file_extension": ".py",
   "mimetype": "text/x-python",
   "name": "python",
   "nbconvert_exporter": "python",
   "pygments_lexer": "ipython3",
   "version": "3.8.8"
  }
 },
 "nbformat": 4,
 "nbformat_minor": 5
}
