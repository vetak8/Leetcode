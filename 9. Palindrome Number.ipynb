{
 "cells": [
  {
   "cell_type": "code",
   "execution_count": 16,
   "id": "14f6e12b",
   "metadata": {},
   "outputs": [],
   "source": [
    "class Solution:\n",
    "    def isPalindrome(self, x: int) -> bool:\n",
    "        if x < 0: return False\n",
    "        div = 1\n",
    "        while x >= 10 * div:\n",
    "            div *= 10\n",
    "        while x:\n",
    "            right = x % 10\n",
    "            left = x // div\n",
    "            if right != left: return False\n",
    "            x = (x % div) // 10\n",
    "            div /= 100\n",
    "        return True\n",
    "            "
   ]
  },
  {
   "cell_type": "code",
   "execution_count": 25,
   "id": "0d1d66ab",
   "metadata": {},
   "outputs": [],
   "source": [
    "class Solution:\n",
    "    def isPalindrome(self, x: int) -> bool:\n",
    "        if x < 0:\n",
    "            return False\n",
    "        num = x\n",
    "        reverse = 0\n",
    "        while(num):\n",
    "            reverse = reverse * 10 + num % 10  #taking the reverse of the number\n",
    "            num //= 10\n",
    "        return x == reverse"
   ]
  },
  {
   "cell_type": "code",
   "execution_count": 26,
   "id": "5ca64373",
   "metadata": {},
   "outputs": [],
   "source": [
    "obj = Solution()"
   ]
  },
  {
   "cell_type": "code",
   "execution_count": 27,
   "id": "65ee8d62",
   "metadata": {},
   "outputs": [
    {
     "data": {
      "text/plain": [
       "True"
      ]
     },
     "execution_count": 27,
     "metadata": {},
     "output_type": "execute_result"
    }
   ],
   "source": [
    "obj.isPalindrome(1221)"
   ]
  },
  {
   "cell_type": "code",
   "execution_count": 28,
   "id": "76e2feed",
   "metadata": {},
   "outputs": [
    {
     "name": "stdout",
     "output_type": "stream",
     "text": [
      "8221 0\n",
      "822 1\n",
      "822 1\n",
      "82 12\n",
      "82 12\n",
      "8 122\n",
      "8 122\n",
      "0 1228\n"
     ]
    }
   ],
   "source": [
    "num = 8221\n",
    "reverse = 0\n",
    "while(num):\n",
    "    print (num, reverse)\n",
    "    reverse = reverse * 10 + num % 10  #taking the reverse of the number\n",
    "    num //= 10\n",
    "    print (num, reverse)"
   ]
  },
  {
   "cell_type": "code",
   "execution_count": null,
   "id": "603255fe",
   "metadata": {},
   "outputs": [],
   "source": [
    "class Solution:\n",
    "    def isPalindrome(self, x: int) -> bool:\n",
    "        if x < 0: return False\n",
    "        \n",
    "        \n",
    "        while x:\n",
    "            "
   ]
  },
  {
   "cell_type": "code",
   "execution_count": 30,
   "id": "9647cacd",
   "metadata": {},
   "outputs": [
    {
     "data": {
      "text/plain": [
       "100000"
      ]
     },
     "execution_count": 30,
     "metadata": {},
     "output_type": "execute_result"
    }
   ],
   "source": [
    "x = 123456\n",
    "div = 1\n",
    "while x >= 10 * div:\n",
    "    div = div * 10\n",
    "div "
   ]
  },
  {
   "cell_type": "code",
   "execution_count": 36,
   "id": "2ebf6535",
   "metadata": {},
   "outputs": [
    {
     "data": {
      "text/plain": [
       "2345"
      ]
     },
     "execution_count": 36,
     "metadata": {},
     "output_type": "execute_result"
    }
   ],
   "source": [
    "(x%div)//10"
   ]
  },
  {
   "cell_type": "code",
   "execution_count": null,
   "id": "e902c5a3",
   "metadata": {},
   "outputs": [],
   "source": []
  },
  {
   "cell_type": "code",
   "execution_count": null,
   "id": "934ac7c4",
   "metadata": {},
   "outputs": [],
   "source": []
  }
 ],
 "metadata": {
  "kernelspec": {
   "display_name": "Python 3",
   "language": "python",
   "name": "python3"
  },
  "language_info": {
   "codemirror_mode": {
    "name": "ipython",
    "version": 3
   },
   "file_extension": ".py",
   "mimetype": "text/x-python",
   "name": "python",
   "nbconvert_exporter": "python",
   "pygments_lexer": "ipython3",
   "version": "3.8.8"
  }
 },
 "nbformat": 4,
 "nbformat_minor": 5
}
